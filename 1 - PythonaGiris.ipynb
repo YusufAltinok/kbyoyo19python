{
 "cells": [
  {
   "cell_type": "markdown",
   "metadata": {},
   "source": [
    "<H1>Python'a Giriş</H1>"
   ]
  },
  {
   "cell_type": "markdown",
   "metadata": {},
   "source": [
    "![title](imgs/python.png)\n",
    "Python'un bazı özellikleri:\n",
    "* Python yorumlanan bir dil, Matlab'a benziyor. Java, C, C++, C# gibi derlenen bir dil değil. Her yazılan *ifade* anında çalıştırılıyor.\n",
    "* Dinamik tipli bir dildir. Değişkenlerin türünün el ile tanımlanması gerekmez.\n",
    "* Nesne tabanlı programlamayı destekler.\n",
    "* Otomatik kötü girdileri temizleme (garbage collection) işlevi vardır.\n",
    "\n",
    "Bu kısımda Python ile ilgili herşeyi öğrenmeyeceğiz. Başka programlama dili bilenler için hızlıca bir giriş yapacağız.\n",
    "\n",
    "**Python öğrenmeye başlamak için kaynaklar**:\n",
    "\n",
    "* https://www.codecademy.com/learn/python\n",
    "* http://docs.python-guide.org/en/latest/intro/learning/\n",
    "* https://learnpythonthehardway.org/book/\n",
    "* https://www.codementor.io/learn-python-online\n",
    "* https://stackabuse.com/python-tutorial-for-absolute-beginners/\n",
    "* https://www.py4e.com/ ve https://www.coursera.org/specializations/python\n",
    "\n",
    "**Her zaman elimizin altında olması iyi olacak Python referansı**:\n",
    "\n",
    "* https://docs.python.org/3.7/reference/\n",
    "\n",
    "Klasik Hello World ile başlayalım!"
   ]
  },
  {
   "cell_type": "code",
   "execution_count": 1,
   "metadata": {},
   "outputs": [
    {
     "name": "stdout",
     "output_type": "stream",
     "text": [
      "Hello World!\n"
     ]
    }
   ],
   "source": [
    "print('Hello World!')"
   ]
  },
  {
   "cell_type": "markdown",
   "metadata": {},
   "source": [
    "## Genel İfadeler"
   ]
  },
  {
   "cell_type": "markdown",
   "metadata": {},
   "source": [
    "* Tekil ifadeler \n",
    "* Eşitleme/atama\n",
    "* Fonksiyon çağırma\n",
    "* Fonksiyon tanımlama\n",
    "* İfade; ifade"
   ]
  },
  {
   "cell_type": "code",
   "execution_count": 2,
   "metadata": {},
   "outputs": [
    {
     "data": {
      "text/plain": [
       "5"
      ]
     },
     "execution_count": 2,
     "metadata": {},
     "output_type": "execute_result"
    }
   ],
   "source": [
    "5"
   ]
  },
  {
   "cell_type": "code",
   "execution_count": 3,
   "metadata": {},
   "outputs": [
    {
     "data": {
      "text/plain": [
       "10"
      ]
     },
     "execution_count": 3,
     "metadata": {},
     "output_type": "execute_result"
    }
   ],
   "source": [
    "5+5"
   ]
  },
  {
   "cell_type": "code",
   "execution_count": 4,
   "metadata": {},
   "outputs": [
    {
     "name": "stdout",
     "output_type": "stream",
     "text": [
      "Merhaba Dünya\n",
      "Merhaba Dünya 5\n"
     ]
    }
   ],
   "source": [
    "a = 5 # Bu bir yorum\n",
    "b = 'Merhaba Dünya'\n",
    "print(b)\n",
    "print(b + ' ' + str(a))"
   ]
  },
  {
   "cell_type": "code",
   "execution_count": 5,
   "metadata": {},
   "outputs": [
    {
     "name": "stdout",
     "output_type": "stream",
     "text": [
      "3.3\n",
      "-6.6\n"
     ]
    }
   ],
   "source": [
    "def topla(x, y):\n",
    "    return x + y\n",
    "\n",
    "c = topla(1, 2.3)\n",
    "print(c); d = -2; print(c*d)"
   ]
  },
  {
   "cell_type": "code",
   "execution_count": 6,
   "metadata": {},
   "outputs": [
    {
     "name": "stdout",
     "output_type": "stream",
     "text": [
      "True\n",
      "False\n"
     ]
    }
   ],
   "source": [
    "a  = True\n",
    "print(a); print(a and False)"
   ]
  },
  {
   "cell_type": "markdown",
   "metadata": {},
   "source": [
    "## Sayılar"
   ]
  },
  {
   "cell_type": "markdown",
   "metadata": {},
   "source": [
    "Temel sayı türleri:\n",
    "* **int**\n",
    "* **float**"
   ]
  },
  {
   "cell_type": "code",
   "execution_count": 7,
   "metadata": {},
   "outputs": [
    {
     "data": {
      "text/plain": [
       "1"
      ]
     },
     "execution_count": 7,
     "metadata": {},
     "output_type": "execute_result"
    }
   ],
   "source": [
    "1 #tam sayı, int"
   ]
  },
  {
   "cell_type": "code",
   "execution_count": 8,
   "metadata": {},
   "outputs": [
    {
     "data": {
      "text/plain": [
       "2"
      ]
     },
     "execution_count": 8,
     "metadata": {},
     "output_type": "execute_result"
    }
   ],
   "source": [
    "2"
   ]
  },
  {
   "cell_type": "code",
   "execution_count": 9,
   "metadata": {},
   "outputs": [
    {
     "data": {
      "text/plain": [
       "-3"
      ]
     },
     "execution_count": 9,
     "metadata": {},
     "output_type": "execute_result"
    }
   ],
   "source": [
    "-3"
   ]
  },
  {
   "cell_type": "code",
   "execution_count": 10,
   "metadata": {},
   "outputs": [
    {
     "data": {
      "text/plain": [
       "2"
      ]
     },
     "execution_count": 10,
     "metadata": {},
     "output_type": "execute_result"
    }
   ],
   "source": [
    "1\n",
    "2"
   ]
  },
  {
   "cell_type": "code",
   "execution_count": 4,
   "metadata": {},
   "outputs": [
    {
     "data": {
      "text/plain": [
       "int"
      ]
     },
     "execution_count": 4,
     "metadata": {},
     "output_type": "execute_result"
    }
   ],
   "source": [
    "type(1)"
   ]
  },
  {
   "cell_type": "code",
   "execution_count": 12,
   "metadata": {},
   "outputs": [
    {
     "data": {
      "text/plain": [
       "float"
      ]
     },
     "execution_count": 12,
     "metadata": {},
     "output_type": "execute_result"
    }
   ],
   "source": [
    "3.14 #sürekli sayı, float\n",
    "type(3.14)"
   ]
  },
  {
   "cell_type": "markdown",
   "metadata": {},
   "source": [
    "Tanımlı sayı operatörleri: \n",
    "* 4 işlem: +,-,*,/\n",
    "* Tam sayı bölmesi: //\n",
    "* Üstel fonksiyon: **\n",
    "* Modülüs: %\n",
    "* Atama operatörleri: Örn. += (derste bu kafa karıştımıştı, **dikkat**)"
   ]
  },
  {
   "cell_type": "code",
   "execution_count": 13,
   "metadata": {},
   "outputs": [
    {
     "name": "stdout",
     "output_type": "stream",
     "text": [
      "7 3 10 2.5 2 25 1\n"
     ]
    }
   ],
   "source": [
    "print(5+2, 5-2, 5*2, 5/2, 5//2, 5**2, 5%2)"
   ]
  },
  {
   "cell_type": "code",
   "execution_count": 14,
   "metadata": {},
   "outputs": [
    {
     "name": "stdout",
     "output_type": "stream",
     "text": [
      "2.0\n"
     ]
    }
   ],
   "source": [
    "a = 5\n",
    "a += 3\n",
    "a /= 4\n",
    "print(a)"
   ]
  },
  {
   "cell_type": "markdown",
   "metadata": {},
   "source": [
    "Veri Türleri Arasında Çevrimler"
   ]
  },
  {
   "cell_type": "code",
   "execution_count": 15,
   "metadata": {},
   "outputs": [
    {
     "data": {
      "text/plain": [
       "float"
      ]
     },
     "execution_count": 15,
     "metadata": {},
     "output_type": "execute_result"
    }
   ],
   "source": [
    "type(7.)"
   ]
  },
  {
   "cell_type": "code",
   "execution_count": 16,
   "metadata": {
    "scrolled": true
   },
   "outputs": [
    {
     "data": {
      "text/plain": [
       "int"
      ]
     },
     "execution_count": 16,
     "metadata": {},
     "output_type": "execute_result"
    }
   ],
   "source": [
    "type(int(7.))"
   ]
  },
  {
   "cell_type": "code",
   "execution_count": 17,
   "metadata": {},
   "outputs": [
    {
     "data": {
      "text/plain": [
       "str"
      ]
     },
     "execution_count": 17,
     "metadata": {},
     "output_type": "execute_result"
    }
   ],
   "source": [
    "type(str(7.))"
   ]
  },
  {
   "cell_type": "markdown",
   "metadata": {},
   "source": [
    "## Dizgeler (Strings)"
   ]
  },
  {
   "cell_type": "code",
   "execution_count": 19,
   "metadata": {},
   "outputs": [
    {
     "data": {
      "text/plain": [
       "'banka'"
      ]
     },
     "execution_count": 19,
     "metadata": {},
     "output_type": "execute_result"
    }
   ],
   "source": [
    "'banka'"
   ]
  },
  {
   "cell_type": "code",
   "execution_count": 20,
   "metadata": {},
   "outputs": [
    {
     "data": {
      "text/plain": [
       "'banka'"
      ]
     },
     "execution_count": 20,
     "metadata": {},
     "output_type": "execute_result"
    }
   ],
   "source": [
    "\"banka\""
   ]
  },
  {
   "cell_type": "markdown",
   "metadata": {},
   "source": [
    "Dizge tanımlamak için tek tırnak veya çift tırnak farketmiyor."
   ]
  },
  {
   "cell_type": "markdown",
   "metadata": {},
   "source": [
    "Sık kullanılan fonksiyonlar"
   ]
  },
  {
   "cell_type": "code",
   "execution_count": 21,
   "metadata": {},
   "outputs": [
    {
     "name": "stdout",
     "output_type": "stream",
     "text": [
      "11\n",
      "HELLO,WORLD\n",
      "hello,world\n",
      "['Hello', 'World']\n"
     ]
    }
   ],
   "source": [
    "a = \"Hello,World\"\n",
    "print(len(a))\n",
    "print(a.upper())\n",
    "print(a.lower())\n",
    "print(a.split(\",\"))"
   ]
  },
  {
   "cell_type": "code",
   "execution_count": 22,
   "metadata": {},
   "outputs": [
    {
     "name": "stdout",
     "output_type": "stream",
     "text": [
      "Example , for ' removing . punctuation !, or \" is it?? yes, it is \\  \n",
      "Example  for  removing  punctuation  or  is it yes it is   \n"
     ]
    }
   ],
   "source": [
    "import string\n",
    "a = \"Example , for \\' removing . punctuation !, or \\\" is it?? yes, it is \\\\  \"\n",
    "print(a)\n",
    "print(a.translate(str.maketrans('', '', string.punctuation)))"
   ]
  },
  {
   "cell_type": "markdown",
   "metadata": {},
   "source": [
    "## Boolean Değerler "
   ]
  },
  {
   "cell_type": "code",
   "execution_count": 23,
   "metadata": {},
   "outputs": [
    {
     "data": {
      "text/plain": [
       "True"
      ]
     },
     "execution_count": 23,
     "metadata": {},
     "output_type": "execute_result"
    }
   ],
   "source": [
    "True"
   ]
  },
  {
   "cell_type": "code",
   "execution_count": 24,
   "metadata": {},
   "outputs": [
    {
     "data": {
      "text/plain": [
       "False"
      ]
     },
     "execution_count": 24,
     "metadata": {},
     "output_type": "execute_result"
    }
   ],
   "source": [
    "False"
   ]
  },
  {
   "cell_type": "markdown",
   "metadata": {},
   "source": [
    "Tanımlı Boolean operatörleri: and, or, not"
   ]
  },
  {
   "cell_type": "code",
   "execution_count": 25,
   "metadata": {},
   "outputs": [
    {
     "name": "stdout",
     "output_type": "stream",
     "text": [
      "False\n",
      "True\n",
      "False\n"
     ]
    }
   ],
   "source": [
    "print(True and False)\n",
    "print(True or False)\n",
    "print(not(True))"
   ]
  },
  {
   "cell_type": "markdown",
   "metadata": {},
   "source": [
    "Boolean döndüren kıyaslama operatörleri: <,>,<=,>=,!=,is,=="
   ]
  },
  {
   "cell_type": "code",
   "execution_count": 26,
   "metadata": {},
   "outputs": [
    {
     "name": "stdout",
     "output_type": "stream",
     "text": [
      "True True False True False True True\n"
     ]
    }
   ],
   "source": [
    "print(5.1>5, 5>=5, 5<5, 5!=4, 5 is 4, 5 is 5, 5 == 5)"
   ]
  },
  {
   "cell_type": "markdown",
   "metadata": {},
   "source": [
    "## Koleksiyonlar"
   ]
  },
  {
   "cell_type": "markdown",
   "metadata": {},
   "source": [
    "Python temelinde 4 adet temel koleksiyon var:\n",
    "\n",
    "* dictionaries (hash tables): {}\n",
    "* lists: []\n",
    "* tuples: (item, ...)\n",
    "* set: set()"
   ]
  },
  {
   "cell_type": "code",
   "execution_count": 27,
   "metadata": {},
   "outputs": [
    {
     "data": {
      "text/plain": [
       "[1, 2, 3]"
      ]
     },
     "execution_count": 27,
     "metadata": {},
     "output_type": "execute_result"
    }
   ],
   "source": [
    "[1, 2, 3]"
   ]
  },
  {
   "cell_type": "code",
   "execution_count": 28,
   "metadata": {},
   "outputs": [
    {
     "data": {
      "text/plain": [
       "(1, 2, 3)"
      ]
     },
     "execution_count": 28,
     "metadata": {},
     "output_type": "execute_result"
    }
   ],
   "source": [
    "(1, 2, 3)"
   ]
  },
  {
   "cell_type": "code",
   "execution_count": 5,
   "metadata": {},
   "outputs": [
    {
     "data": {
      "text/plain": [
       "(1, 2, 3)"
      ]
     },
     "execution_count": 5,
     "metadata": {},
     "output_type": "execute_result"
    }
   ],
   "source": [
    "1, 2, 3"
   ]
  },
  {
   "cell_type": "code",
   "execution_count": 6,
   "metadata": {},
   "outputs": [
    {
     "data": {
      "text/plain": [
       "{'elma': 'meyve', 'salatalık': 'sebze', 'maymun': 'memeli'}"
      ]
     },
     "execution_count": 6,
     "metadata": {},
     "output_type": "execute_result"
    }
   ],
   "source": [
    "{\"elma\": \"meyve\", \"salatalık\": \"sebze\", \"maymun\": \"memeli\"}"
   ]
  },
  {
   "cell_type": "code",
   "execution_count": 7,
   "metadata": {},
   "outputs": [
    {
     "data": {
      "text/plain": [
       "'meyve'"
      ]
     },
     "execution_count": 7,
     "metadata": {},
     "output_type": "execute_result"
    }
   ],
   "source": [
    "d = {\"elma\": \"meyve\", \"salatalık\": \"sebze\", \"monkey\": \"memeli\"}\n",
    "d[\"elma\"]"
   ]
  },
  {
   "cell_type": "code",
   "execution_count": 8,
   "metadata": {
    "scrolled": true
   },
   "outputs": [
    {
     "name": "stdout",
     "output_type": "stream",
     "text": [
      "bilmiyorum\n"
     ]
    }
   ],
   "source": [
    "d = {\"elma\": \"meyve\", \"salatalık\": \"sebze\", \"monkey\": \"memeli\"}\n",
    "#d[\"armut\"] yazarsak hata verir, onun yerine\n",
    "print(d.get(\"armut\", \"bilmiyorum\")) #get ile olmayanın yerine bir şey döndürülebilir"
   ]
  },
  {
   "cell_type": "markdown",
   "metadata": {},
   "source": [
    "List değiştirilebilir (mutable). Tuple değiştirilemez, sadece okunur (immutable). Tuple dictionary için anahtar olabilir ama List olamaz."
   ]
  },
  {
   "cell_type": "code",
   "execution_count": 33,
   "metadata": {},
   "outputs": [
    {
     "name": "stdout",
     "output_type": "stream",
     "text": [
      "[1, 1, 4]\n"
     ]
    }
   ],
   "source": [
    "a=[1,2,3]\n",
    "a[2] = 4\n",
    "a[1]-=1 #a[1] = a[1] - 1\n",
    "print(a)"
   ]
  },
  {
   "cell_type": "code",
   "execution_count": 10,
   "metadata": {},
   "outputs": [
    {
     "name": "stdout",
     "output_type": "stream",
     "text": [
      "2\n"
     ]
    }
   ],
   "source": [
    "a = (1,2)\n",
    "print(a[1])\n",
    "#a[1]=5 #yazsaydık hata verecekti"
   ]
  },
  {
   "cell_type": "code",
   "execution_count": 35,
   "metadata": {},
   "outputs": [
    {
     "data": {
      "text/plain": [
       "{(1, 2): 'tuple'}"
      ]
     },
     "execution_count": 35,
     "metadata": {},
     "output_type": "execute_result"
    }
   ],
   "source": [
    "{(1,2):'tuple'} #{[1,2]:'list'} yazsaydık hata verecekti"
   ]
  },
  {
   "cell_type": "markdown",
   "metadata": {},
   "source": [
    "Bir takım liste fonksiyonları"
   ]
  },
  {
   "cell_type": "code",
   "execution_count": 36,
   "metadata": {},
   "outputs": [
    {
     "data": {
      "text/plain": [
       "3"
      ]
     },
     "execution_count": 36,
     "metadata": {},
     "output_type": "execute_result"
    }
   ],
   "source": [
    "len([1,2,3]) #tuple ve dictionary için de çalışır"
   ]
  },
  {
   "cell_type": "code",
   "execution_count": 37,
   "metadata": {
    "scrolled": true
   },
   "outputs": [
    {
     "name": "stdout",
     "output_type": "stream",
     "text": [
      "[1, 2]\n"
     ]
    }
   ],
   "source": [
    "a = []\n",
    "a.append(1)\n",
    "a.append(2)\n",
    "print(a)"
   ]
  },
  {
   "cell_type": "markdown",
   "metadata": {},
   "source": [
    "List elemanları herhangi bir nesne olabilir, tek bir tip ile sınırlı olmasına gerek yoktur."
   ]
  },
  {
   "cell_type": "code",
   "execution_count": 38,
   "metadata": {},
   "outputs": [
    {
     "name": "stdout",
     "output_type": "stream",
     "text": [
      "[0, 1, 2, 3, 4, 5, 6, 7, 8, 9]\n",
      "[0, 1, 2, 9.7, 'lalala', 5, 6, 7, 8, 9]\n"
     ]
    }
   ],
   "source": [
    "a = [0,1,2,3,4,5,6,7,8,9]\n",
    "print(a)\n",
    "a[3] = 9.7\n",
    "a[4] = 'lalala'\n",
    "print(a)"
   ]
  },
  {
   "cell_type": "markdown",
   "metadata": {},
   "source": [
    "Listeler **dilimlenebiliyor** (i,j >=0): \n",
    "* liste[i]: i'inci eleman\n",
    "* liste[-i]: sondan i elemanı\n",
    "* liste[i:j]: i ve j elemanları arasındaki alt liste\n",
    "* liste[i:]: i elemanından sonuna kadar\n",
    "* liste[:i]: baştan i elamanına kadar"
   ]
  },
  {
   "cell_type": "code",
   "execution_count": 39,
   "metadata": {},
   "outputs": [
    {
     "name": "stdout",
     "output_type": "stream",
     "text": [
      "0 [2, 3, 4] 8 [2, 3, 4, 5, 6, 7, 8, 9] [0, 1, 2, 3, 4] [0, 1, 2, 3, 4, 5, 6, 7] [8, 9]\n",
      "[7, 6, 5, 4]\n",
      "[9, 8, 7, 6, 5, 4, 3, 2, 1, 0]\n"
     ]
    }
   ],
   "source": [
    "a = [0,1,2,3,4,5,6,7,8,9]\n",
    "print(a[0],a[2:5],a[-2], a[2:],a[:5], a[:-2],a[-2:])\n",
    "print(a[7:3:-1])\n",
    "print(a[::-1])"
   ]
  },
  {
   "cell_type": "markdown",
   "metadata": {},
   "source": [
    "**Liste Kavraması**: Liste içindeki kodun listeyi doldurması (List Comprehension)"
   ]
  },
  {
   "cell_type": "code",
   "execution_count": 40,
   "metadata": {},
   "outputs": [
    {
     "data": {
      "text/plain": [
       "[0, 1, 4, 9, 16]"
      ]
     },
     "execution_count": 40,
     "metadata": {},
     "output_type": "execute_result"
    }
   ],
   "source": [
    "[x ** 2 for x in range(5)]"
   ]
  },
  {
   "cell_type": "code",
   "execution_count": 41,
   "metadata": {},
   "outputs": [
    {
     "data": {
      "text/plain": [
       "[0, 1, 4, 9, 16]"
      ]
     },
     "execution_count": 41,
     "metadata": {},
     "output_type": "execute_result"
    }
   ],
   "source": [
    "l = []\n",
    "for x in range(5):\n",
    "    l.append(x ** 2)\n",
    "l"
   ]
  },
  {
   "cell_type": "markdown",
   "metadata": {},
   "source": [
    "Liste kavraması daha *pythonic* "
   ]
  },
  {
   "cell_type": "markdown",
   "metadata": {},
   "source": [
    "Set (küme):\n",
    "* Tekrar etmeyen verileri saklar\n",
    "* Listeler gibi değiştirilebilirler (mutable)\n",
    "* Bir verinin sette olup olmadığı hızlıca sorgulanabilir\n",
    "* Küme operasyonlarını destekler"
   ]
  },
  {
   "cell_type": "code",
   "execution_count": 42,
   "metadata": {},
   "outputs": [
    {
     "name": "stdout",
     "output_type": "stream",
     "text": [
      "{1, 2, 3, 4}\n",
      "{1, 2, 3, 4, 5}\n",
      "{1, 2, 3, 4, 5}\n",
      "True\n",
      "False\n",
      "{1, 2, 3, 4, 5, 6}\n",
      "{4, 5}\n",
      "{1, 2, 3}\n"
     ]
    }
   ],
   "source": [
    "a = set([1,2,3,4])\n",
    "print(a)\n",
    "a.add(5)\n",
    "print(a)\n",
    "a.add(5)\n",
    "print(a)\n",
    "print(5 in a)\n",
    "print(6 in a)\n",
    "b = set([4,5,6])\n",
    "print(a.union(b))\n",
    "print(a.intersection(b))\n",
    "print(a-b)"
   ]
  },
  {
   "cell_type": "markdown",
   "metadata": {},
   "source": [
    "## Özel Değerler"
   ]
  },
  {
   "cell_type": "code",
   "execution_count": 11,
   "metadata": {},
   "outputs": [],
   "source": [
    "None"
   ]
  },
  {
   "cell_type": "code",
   "execution_count": 44,
   "metadata": {},
   "outputs": [
    {
     "data": {
      "text/plain": [
       "True"
      ]
     },
     "execution_count": 44,
     "metadata": {},
     "output_type": "execute_result"
    }
   ],
   "source": [
    "True"
   ]
  },
  {
   "cell_type": "code",
   "execution_count": 45,
   "metadata": {},
   "outputs": [
    {
     "data": {
      "text/plain": [
       "False"
      ]
     },
     "execution_count": 45,
     "metadata": {},
     "output_type": "execute_result"
    }
   ],
   "source": [
    "False"
   ]
  },
  {
   "cell_type": "markdown",
   "metadata": {},
   "source": [
    "## Fonksiyon Tanımlama"
   ]
  },
  {
   "cell_type": "code",
   "execution_count": 16,
   "metadata": {},
   "outputs": [],
   "source": [
    "def topla(a, b):\n",
    "    return a + b"
   ]
  },
  {
   "cell_type": "code",
   "execution_count": 47,
   "metadata": {},
   "outputs": [
    {
     "data": {
      "text/plain": [
       "7"
      ]
     },
     "execution_count": 47,
     "metadata": {},
     "output_type": "execute_result"
    }
   ],
   "source": [
    "topla(3, 4)"
   ]
  },
  {
   "cell_type": "code",
   "execution_count": 13,
   "metadata": {},
   "outputs": [],
   "source": [
    "def topla(a, b):\n",
    "    a + b"
   ]
  },
  {
   "cell_type": "code",
   "execution_count": 14,
   "metadata": {},
   "outputs": [],
   "source": [
    "topla(3, 4)"
   ]
  },
  {
   "cell_type": "markdown",
   "metadata": {},
   "source": [
    "Python'da fonksiyon tanımlarken **return** ifadesi kullanılmaz ise, doğrudan **None** döner."
   ]
  },
  {
   "cell_type": "markdown",
   "metadata": {},
   "source": [
    "**Not:** Python'da kod blokları, girintilerle (indentation), Java ve C ailesinde bloklar küme parantezleri ile belirlenir."
   ]
  },
  {
   "cell_type": "markdown",
   "metadata": {},
   "source": [
    "Fonksiyon parametrelerine varsayılan (default) değerler atanabilir."
   ]
  },
  {
   "cell_type": "code",
   "execution_count": 50,
   "metadata": {
    "scrolled": true
   },
   "outputs": [
    {
     "name": "stdout",
     "output_type": "stream",
     "text": [
      "10\n",
      "20\n"
     ]
    }
   ],
   "source": [
    "def kat(a, b=1):\n",
    "    return a*b\n",
    "print(kat(10))\n",
    "print(kat(10,2))"
   ]
  },
  {
   "cell_type": "markdown",
   "metadata": {},
   "source": [
    "Diğer varsayılan değerleri etkilemeden, sıranın daha sonrasındaki değerleri değiştirmek mümkün."
   ]
  },
  {
   "cell_type": "code",
   "execution_count": 51,
   "metadata": {},
   "outputs": [
    {
     "data": {
      "text/plain": [
       "6"
      ]
     },
     "execution_count": 51,
     "metadata": {},
     "output_type": "execute_result"
    }
   ],
   "source": [
    "def sacmaFonksiyon(a, b=1, c=1, d=1, e=0):\n",
    "    return (a+b+d+e)*c\n",
    "sacmaFonksiyon(1,c=2)"
   ]
  },
  {
   "cell_type": "markdown",
   "metadata": {},
   "source": [
    "## Referanslar"
   ]
  },
  {
   "cell_type": "markdown",
   "metadata": {},
   "source": [
    "Referans, bir nesnenin hafızadaki adresidir. Python'da değişkenlerin hepsine referanslar üzerinden erişilir. Aynı hafızaya işaret eden birden fazla referans olabilir."
   ]
  },
  {
   "cell_type": "code",
   "execution_count": 52,
   "metadata": {},
   "outputs": [
    {
     "name": "stdout",
     "output_type": "stream",
     "text": [
      "[1, 2, 3, 4]\n",
      "[1, 2, 3]\n"
     ]
    }
   ],
   "source": [
    "a = [1,2,3]\n",
    "b = a\n",
    "c = a.copy()\n",
    "a.append(4)\n",
    "print(b)\n",
    "print(c)"
   ]
  },
  {
   "cell_type": "markdown",
   "metadata": {},
   "source": [
    "Önemli Not: **is** ile **==** aynı operatör değiller. Birisi referansları (hafıza adresini) kontrol ederken diğeri değerleri kontrol eder"
   ]
  },
  {
   "cell_type": "code",
   "execution_count": 53,
   "metadata": {},
   "outputs": [
    {
     "name": "stdout",
     "output_type": "stream",
     "text": [
      "True\n",
      "False\n",
      "True\n"
     ]
    }
   ],
   "source": [
    "a = [1, 2]\n",
    "b = [1, 2]\n",
    "c = a\n",
    "print(a == b)\n",
    "print(a is b)\n",
    "print(a is c)"
   ]
  },
  {
   "cell_type": "markdown",
   "metadata": {},
   "source": [
    "## Koşullu Önermeler"
   ]
  },
  {
   "cell_type": "code",
   "execution_count": 54,
   "metadata": {},
   "outputs": [
    {
     "name": "stdout",
     "output_type": "stream",
     "text": [
      "x beşten büyük:  6\n",
      "x pozitif:  4\n",
      "x üç ile beş arasında:  4\n",
      "x pozitif:  1\n",
      "x üç ile sıfır arasında:  1\n",
      "x sıfır:  0\n",
      "x negatif:  -1\n"
     ]
    }
   ],
   "source": [
    "def kosulTesti(x):\n",
    "    if x > 5:\n",
    "        print('x beşten büyük: ', x)\n",
    "    elif x > 0:\n",
    "        print('x pozitif: ',x )\n",
    "        if x > 3:\n",
    "            print('x üç ile beş arasında: ', x)\n",
    "        else:\n",
    "            print('x üç ile sıfır arasında: ', x)\n",
    "    elif x == 0:\n",
    "        print('x sıfır: ', x)\n",
    "    else:\n",
    "        print('x negatif: ', x)\n",
    "kosulTesti(6)\n",
    "kosulTesti(4)\n",
    "kosulTesti(1)\n",
    "kosulTesti(0)\n",
    "kosulTesti(-1)"
   ]
  },
  {
   "cell_type": "markdown",
   "metadata": {},
   "source": [
    "## Döngüler"
   ]
  },
  {
   "cell_type": "markdown",
   "metadata": {},
   "source": [
    "**While** döngüsü"
   ]
  },
  {
   "cell_type": "code",
   "execution_count": 55,
   "metadata": {},
   "outputs": [
    {
     "name": "stdout",
     "output_type": "stream",
     "text": [
      "Hello\n",
      "Hello\n",
      "Hello\n"
     ]
    }
   ],
   "source": [
    "x = 0\n",
    "while x < 3:\n",
    "    x += 1 #x = x + 1, x++\n",
    "    print('Hello')"
   ]
  },
  {
   "cell_type": "markdown",
   "metadata": {},
   "source": [
    "**For** döngüsü"
   ]
  },
  {
   "cell_type": "code",
   "execution_count": 56,
   "metadata": {},
   "outputs": [
    {
     "name": "stdout",
     "output_type": "stream",
     "text": [
      "1\n",
      "2\n",
      "3\n",
      "4\n"
     ]
    }
   ],
   "source": [
    "for i in [1,2,3,4]:\n",
    "    print(i)\n",
    "   "
   ]
  },
  {
   "cell_type": "markdown",
   "metadata": {},
   "source": [
    "**range** fonksiyonu:\n",
    "* range(e): [0,1,..,e-1]\n",
    "* range(s, e): [s, s+1,..,e-1]\n",
    "* range(s, e, inc): [s, s+inc, .., e-inc]\n"
   ]
  },
  {
   "cell_type": "code",
   "execution_count": 17,
   "metadata": {
    "scrolled": true
   },
   "outputs": [
    {
     "name": "stdout",
     "output_type": "stream",
     "text": [
      "3\n",
      "5\n",
      "7\n",
      "9\n",
      "11\n"
     ]
    }
   ],
   "source": [
    "for i in range(3, 13, 2):\n",
    "    print(i)"
   ]
  },
  {
   "cell_type": "code",
   "execution_count": 18,
   "metadata": {
    "scrolled": true
   },
   "outputs": [
    {
     "name": "stdout",
     "output_type": "stream",
     "text": [
      "13 11 9 7 5 "
     ]
    }
   ],
   "source": [
    "for i in range(13, 3, -2):\n",
    "    print(i,end=' ')"
   ]
  },
  {
   "cell_type": "code",
   "execution_count": 59,
   "metadata": {},
   "outputs": [
    {
     "data": {
      "text/plain": [
       "[0, 1, 2, 3, 4]"
      ]
     },
     "execution_count": 59,
     "metadata": {},
     "output_type": "execute_result"
    }
   ],
   "source": [
    "a = list(range(5))\n",
    "a"
   ]
  },
  {
   "cell_type": "markdown",
   "metadata": {},
   "source": [
    "##  import, from, as"
   ]
  },
  {
   "cell_type": "markdown",
   "metadata": {},
   "source": [
    "* Python jargonunda belirli tanım ve ifadeler içeren dosyalara modül denir. \n",
    "* Bir modüldeki Python koduna **import** komutu ile erişilebilir\n",
    "* Bir modüldeki spesifik bir kısmı almak için **from** komutu vardır\n",
    "* Modülü aldıktan sonra kullanım kolaylığı için adı **as** komutu ile belirtilebilir"
   ]
  },
  {
   "cell_type": "code",
   "execution_count": 60,
   "metadata": {},
   "outputs": [
    {
     "name": "stdout",
     "output_type": "stream",
     "text": [
      "2019-05-01 09:24:23.952988\n"
     ]
    }
   ],
   "source": [
    "import datetime\n",
    "x = datetime.datetime.now()\n",
    "print(x)"
   ]
  },
  {
   "cell_type": "code",
   "execution_count": 61,
   "metadata": {},
   "outputs": [
    {
     "name": "stdout",
     "output_type": "stream",
     "text": [
      "2019-05-01 09:24:23.968075\n"
     ]
    }
   ],
   "source": [
    "import datetime as dt\n",
    "x = dt.datetime.now()\n",
    "print(x)"
   ]
  },
  {
   "cell_type": "code",
   "execution_count": 62,
   "metadata": {},
   "outputs": [
    {
     "name": "stdout",
     "output_type": "stream",
     "text": [
      "2019-05-01 09:24:23.984443\n"
     ]
    }
   ],
   "source": [
    "from datetime import datetime\n",
    "x = datetime.now()\n",
    "print(x)"
   ]
  },
  {
   "cell_type": "code",
   "execution_count": 63,
   "metadata": {},
   "outputs": [
    {
     "name": "stdout",
     "output_type": "stream",
     "text": [
      "2019-05-01 09:24:24.005324\n"
     ]
    }
   ],
   "source": [
    "from datetime import datetime as dt\n",
    "x = dt.now()\n",
    "print(x)"
   ]
  },
  {
   "cell_type": "markdown",
   "metadata": {},
   "source": [
    "## Konsoldan Girdi"
   ]
  },
  {
   "cell_type": "markdown",
   "metadata": {},
   "source": [
    "Python'da **input** komutu, konsoldan veri girdisi sağlar. Her zaman bir string döndürür. Girdi türünden eminsek doğrudan çevrilebilir ya da tipi **eval** komutu ile tahmin edilebilir (**eval** komutu, güvenlik riski oluşturduğu için genel olarak tercih edilmemektedir)."
   ]
  },
  {
   "cell_type": "code",
   "execution_count": 20,
   "metadata": {},
   "outputs": [
    {
     "name": "stdout",
     "output_type": "stream",
     "text": [
      "deneme: 5\n",
      "<class 'str'>\n",
      "<class 'int'>\n"
     ]
    }
   ],
   "source": [
    "inp=input('deneme: ')\n",
    "print(type(inp))\n",
    "print(type(eval(inp)))"
   ]
  },
  {
   "cell_type": "markdown",
   "metadata": {},
   "source": [
    "## Dosya Girdi-Çıktı İşlemleri"
   ]
  },
  {
   "cell_type": "markdown",
   "metadata": {},
   "source": [
    "İlk başta dosyayı açmak lazım: \n",
    "```python\n",
    "f = open(dosya_adı, erişim_türü)\n",
    "```\n",
    "Erişim türü dosyanın ne şekilde açılacağını belirler: \n",
    "* Okuma: ‘r’, ‘rb’, ‘r+’, ‘rb+’\n",
    "* Yazma: ‘w’, ‘wb’, ‘w+’, ‘wb+’\n",
    "* Ekleme: ‘a’, ‘ab’, ‘a+’, ‘ab+’ \n",
    "\n",
    "Erişim türü izin verdikçe dosya okunuk yazılabilir:\n",
    "```python\n",
    "satirlar = f.readlines()\n",
    "f.write(yazi)\n",
    "```"
   ]
  },
  {
   "cell_type": "markdown",
   "metadata": {},
   "source": [
    "## Egzersiz:"
   ]
  },
  {
   "cell_type": "markdown",
   "metadata": {},
   "source": [
    "Sayı oyunu: \n",
    "1. Bilgisayar 1 ile 100 arasında bir sayı tutacak\n",
    "2. İnsan konsoldan bunu tahmin etmeye çalışacak\n",
    "3. Bilgisayar yukarı veya aşağı diyecek. Bunun yanında, izin verilmeyen girdileri ve çıkma komutunu kontrol edecek. \n",
    "4. Doğru tahmin edince, yeniden oynamak isteyip istemediğini soracak\n",
    "\n",
    "Bu oyunu aşağıdaki zorluk derecelerine göre yazmaya çalışın:\n",
    "1. Düz bir şekilde döngüler ve koşul önermeleri ile\n",
    "2. Olabildiğince fonksiyonlara bölerek\n",
    "3. Tahmin sayısını hafızada tutarak ve ortalama tahmin sayısı hesaplayarak\n",
    "4. Bütün tahminleri hafızada tutup, sonucu bir log dosyasına yazarak"
   ]
  },
  {
   "cell_type": "code",
   "execution_count": 21,
   "metadata": {},
   "outputs": [
    {
     "name": "stdout",
     "output_type": "stream",
     "text": [
      "Yeni oyun\n",
      "Tahmininiz (çıkmak için 0): 45\n",
      "Daha alçak\n",
      "Tahmininiz (çıkmak için 0): 32\n",
      "Daha yüksek\n",
      "Tahmininiz (çıkmak için 0): 37\n",
      "Daha yüksek\n",
      "Tahmininiz (çıkmak için 0): 40\n",
      "Doğru tahmin!\n",
      "Yeni oyun\n",
      "Tahmininiz (çıkmak için 0): 0\n",
      "Yine beklerim\n"
     ]
    }
   ],
   "source": [
    "import random\n",
    "flag = True\n",
    "while flag:\n",
    "    pickedNumber = random.randint(1, 100)\n",
    "    print('Yeni oyun')\n",
    "    while True:\n",
    "        inp=input('Tahmininiz (çıkmak için 0): ')\n",
    "        try:\n",
    "            inp = int(inp)\n",
    "        except ValueError:\n",
    "            print('Lütfen bir tamsayı giriniz')\n",
    "            continue\n",
    "        if inp == 0:\n",
    "            print('Yine beklerim')\n",
    "            flag = False\n",
    "            break\n",
    "        elif inp < 0 or inp > 100:\n",
    "            print('Lütfen 1 ile 100 arasında bir sayı giriniz')\n",
    "            continue\n",
    "        if inp < pickedNumber:\n",
    "            print('Daha yüksek')\n",
    "        elif inp > pickedNumber:\n",
    "            print('Daha alçak')\n",
    "        else:\n",
    "            print('Doğru tahmin!')\n",
    "            break"
   ]
  }
 ],
 "metadata": {
  "kernelspec": {
   "display_name": "Python 3",
   "language": "python",
   "name": "python3"
  },
  "language_info": {
   "codemirror_mode": {
    "name": "ipython",
    "version": 3
   },
   "file_extension": ".py",
   "mimetype": "text/x-python",
   "name": "python",
   "nbconvert_exporter": "python",
   "pygments_lexer": "ipython3",
   "version": "3.7.3"
  }
 },
 "nbformat": 4,
 "nbformat_minor": 1
}
