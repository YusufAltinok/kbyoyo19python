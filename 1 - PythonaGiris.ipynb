{
 "cells": [
  {
   "cell_type": "markdown",
   "metadata": {},
   "source": [
    "<H1>Python'a Giriş</H1>"
   ]
  },
  {
   "cell_type": "markdown",
   "metadata": {},
   "source": [
    "![title](imgs/python.png)\n",
    "Python'un bazı özellikleri:\n",
    "* Python yorumlanan bir dil, Matlab'a benziyor. Java, C, C++, C# gibi derlenen bir dil değil. Her yazılan *ifade* anında çalıştırılıyor.\n",
    "* Dinamik tipli bir dildir. Değişkenlerin türünün el ile tanımlanması gerekmez.\n",
    "* Nesne tabanlı programlamayı destekler.\n",
    "* Otomatik kötü girdileri temizleme (garbage collection) işlevi vardır.\n",
    "\n",
    "Bu kısımda Python ile ilgili herşeyi öğrenmeyeceğiz. Başka programlama dili bilenler için hızlıca bir giriş yapacağız.\n",
    "\n",
    "**Python öğrenmeye başlamak için kaynaklar**:\n",
    "\n",
    "* https://www.codecademy.com/learn/python\n",
    "* http://docs.python-guide.org/en/latest/intro/learning/\n",
    "* https://learnpythonthehardway.org/book/\n",
    "* https://www.codementor.io/learn-python-online\n",
    "* https://stackabuse.com/python-tutorial-for-absolute-beginners/\n",
    "* https://www.py4e.com/ ve https://www.coursera.org/specializations/python\n",
    "\n",
    "**Her zaman elimizin altında olması iyi olacak Python referansı**:\n",
    "\n",
    "* https://docs.python.org/3.7/reference/\n",
    "\n",
    "Klasik Hello World ile başlayalım!"
   ]
  },
  {
   "cell_type": "code",
   "execution_count": null,
   "metadata": {},
   "outputs": [],
   "source": [
    "print('Hello World!')"
   ]
  },
  {
   "cell_type": "markdown",
   "metadata": {},
   "source": [
    "## Genel İfadeler"
   ]
  },
  {
   "cell_type": "markdown",
   "metadata": {},
   "source": [
    "* Tekil ifadeler \n",
    "* Eşitleme/atama\n",
    "* Fonksiyon çağırma\n",
    "* Fonksiyon tanımlama\n",
    "* İfade; ifade"
   ]
  },
  {
   "cell_type": "code",
   "execution_count": null,
   "metadata": {},
   "outputs": [],
   "source": [
    "5"
   ]
  },
  {
   "cell_type": "code",
   "execution_count": null,
   "metadata": {},
   "outputs": [],
   "source": [
    "5+5"
   ]
  },
  {
   "cell_type": "code",
   "execution_count": null,
   "metadata": {},
   "outputs": [],
   "source": [
    "a = 5 # Bu bir yorum\n",
    "b = 'Merhaba Dünya'\n",
    "print(b)\n",
    "print(b + ' ' + str(a))"
   ]
  },
  {
   "cell_type": "code",
   "execution_count": null,
   "metadata": {},
   "outputs": [],
   "source": [
    "def topla(x, y):\n",
    "    return x + y\n",
    "\n",
    "c = topla(1, 2.3)\n",
    "print(c); d = -2; print(c*d)"
   ]
  },
  {
   "cell_type": "markdown",
   "metadata": {},
   "source": [
    "## Sayılar"
   ]
  },
  {
   "cell_type": "markdown",
   "metadata": {},
   "source": [
    "Temel sayı türleri:\n",
    "* **int**\n",
    "* **float**"
   ]
  },
  {
   "cell_type": "code",
   "execution_count": null,
   "metadata": {},
   "outputs": [],
   "source": [
    "1 #tam sayı, int"
   ]
  },
  {
   "cell_type": "code",
   "execution_count": null,
   "metadata": {},
   "outputs": [],
   "source": [
    "-3"
   ]
  },
  {
   "cell_type": "code",
   "execution_count": null,
   "metadata": {},
   "outputs": [],
   "source": [
    "type(1)"
   ]
  },
  {
   "cell_type": "code",
   "execution_count": null,
   "metadata": {},
   "outputs": [],
   "source": [
    "3.14 #sürekli sayı, float\n",
    "type(3.14)"
   ]
  },
  {
   "cell_type": "markdown",
   "metadata": {},
   "source": [
    "Tanımlı sayı operatörleri: \n",
    "* 4 işlem: +,-,*,/\n",
    "* Tam sayı bölmesi: //\n",
    "* Üstel fonksiyon: **\n",
    "* Modülüs: %\n",
    "* Atama operatörleri: Örn. +=,-="
   ]
  },
  {
   "cell_type": "code",
   "execution_count": null,
   "metadata": {},
   "outputs": [],
   "source": [
    "print(5+2, 5-2, 5*2, 5/2, 5//2, 5**2, 5%2)"
   ]
  },
  {
   "cell_type": "code",
   "execution_count": null,
   "metadata": {},
   "outputs": [],
   "source": [
    "a = 5  # a: 5\n",
    "a += 3 # a: 8 (same as \"a = a + 3\")\n",
    "a /= 4 # a: 2\n",
    "print(a)"
   ]
  },
  {
   "cell_type": "markdown",
   "metadata": {},
   "source": [
    "Veri Türleri Arasında Çevrimler"
   ]
  },
  {
   "cell_type": "code",
   "execution_count": null,
   "metadata": {},
   "outputs": [],
   "source": [
    "a = 7.\n",
    "print(a)\n",
    "type(a)"
   ]
  },
  {
   "cell_type": "code",
   "execution_count": null,
   "metadata": {
    "scrolled": true
   },
   "outputs": [],
   "source": [
    "a = int(7.)\n",
    "print(a)\n",
    "type(a)"
   ]
  },
  {
   "cell_type": "code",
   "execution_count": null,
   "metadata": {},
   "outputs": [],
   "source": [
    "a = str(7.)\n",
    "print(a)\n",
    "type(a)"
   ]
  },
  {
   "cell_type": "markdown",
   "metadata": {},
   "source": [
    "## Dizgeler (Strings)"
   ]
  },
  {
   "cell_type": "code",
   "execution_count": null,
   "metadata": {},
   "outputs": [],
   "source": [
    "'banka'"
   ]
  },
  {
   "cell_type": "code",
   "execution_count": null,
   "metadata": {},
   "outputs": [],
   "source": [
    "\"banka\""
   ]
  },
  {
   "cell_type": "markdown",
   "metadata": {},
   "source": [
    "Dizge tanımlamak için tek tırnak veya çift tırnak farketmiyor."
   ]
  },
  {
   "cell_type": "markdown",
   "metadata": {},
   "source": [
    "Sık kullanılan fonksiyonlar"
   ]
  },
  {
   "cell_type": "code",
   "execution_count": null,
   "metadata": {},
   "outputs": [],
   "source": [
    "a = \"Hello,World\"\n",
    "print(len(a))\n",
    "print(a.upper())\n",
    "print(a.lower())\n",
    "print(a.split(\",\"))"
   ]
  },
  {
   "cell_type": "markdown",
   "metadata": {},
   "source": [
    "## Boolean Değerler "
   ]
  },
  {
   "cell_type": "code",
   "execution_count": null,
   "metadata": {},
   "outputs": [],
   "source": [
    "True"
   ]
  },
  {
   "cell_type": "code",
   "execution_count": null,
   "metadata": {},
   "outputs": [],
   "source": [
    "False"
   ]
  },
  {
   "cell_type": "markdown",
   "metadata": {},
   "source": [
    "Tanımlı Boolean operatörleri: and, or, not"
   ]
  },
  {
   "cell_type": "code",
   "execution_count": null,
   "metadata": {},
   "outputs": [],
   "source": [
    "print(True and False)\n",
    "print(True or False)\n",
    "print(not True)"
   ]
  },
  {
   "cell_type": "markdown",
   "metadata": {},
   "source": [
    "Boolean döndüren kıyaslama operatörleri: <,>,<=,>=,!=,is,=="
   ]
  },
  {
   "cell_type": "code",
   "execution_count": null,
   "metadata": {},
   "outputs": [],
   "source": [
    "print(5.1 > 5, 5 >= 5, 5 < 5, 5 != 4, 5 == 5, 5 is 5)"
   ]
  },
  {
   "cell_type": "markdown",
   "metadata": {},
   "source": [
    "## Koleksiyonlar"
   ]
  },
  {
   "cell_type": "markdown",
   "metadata": {},
   "source": [
    "Python temelinde 4 adet temel koleksiyon var:\n",
    "\n",
    "* lists: []\n",
    "* tuples: (item, ...)\n",
    "* dictionaries (hash tables): {}\n",
    "* set: set()"
   ]
  },
  {
   "cell_type": "code",
   "execution_count": null,
   "metadata": {},
   "outputs": [],
   "source": [
    "[1, 2, 3]"
   ]
  },
  {
   "cell_type": "code",
   "execution_count": null,
   "metadata": {},
   "outputs": [],
   "source": [
    "(1, 2, 3)"
   ]
  },
  {
   "cell_type": "code",
   "execution_count": null,
   "metadata": {},
   "outputs": [],
   "source": [
    "d = {\"elma\": \"meyve\", \"salatalık\": \"sebze\", \"maymun\": \"memeli\"}\n",
    "d"
   ]
  },
  {
   "cell_type": "code",
   "execution_count": null,
   "metadata": {},
   "outputs": [],
   "source": [
    "d[\"elma\"]"
   ]
  },
  {
   "cell_type": "code",
   "execution_count": null,
   "metadata": {
    "scrolled": true
   },
   "outputs": [],
   "source": [
    "d = {\"elma\": \"meyve\", \"salatalık\": \"sebze\", \"monkey\": \"memeli\"}\n",
    "#d[\"armut\"] yazarsak hata verir, onun yerine\n",
    "print(d.get(\"armut\", \"bilmiyorum\")) #get ile olmayanın yerine bir şey döndürülebilir"
   ]
  },
  {
   "cell_type": "markdown",
   "metadata": {},
   "source": [
    "List değiştirilebilir (mutable). Tuple değiştirilemez, sadece okunur (immutable). Tuple dictionary için anahtar olabilir ama List olamaz."
   ]
  },
  {
   "cell_type": "code",
   "execution_count": null,
   "metadata": {},
   "outputs": [],
   "source": [
    "a=[1,2,3]\n",
    "print(a)\n",
    "a[2] = 4\n",
    "a[1] -= 1 # a[1] = a[1] - 1\n",
    "print(a)"
   ]
  },
  {
   "cell_type": "code",
   "execution_count": null,
   "metadata": {},
   "outputs": [],
   "source": [
    "a = (1,2)\n",
    "print(a[1])\n",
    "#a[1]=5 #yazsaydık hata verecekti"
   ]
  },
  {
   "cell_type": "code",
   "execution_count": null,
   "metadata": {},
   "outputs": [],
   "source": [
    "{(1,2):'tuple'} #{[1,2]:'list'} yazsaydık hata verecekti"
   ]
  },
  {
   "cell_type": "markdown",
   "metadata": {},
   "source": [
    "Bir takım liste fonksiyonları"
   ]
  },
  {
   "cell_type": "code",
   "execution_count": null,
   "metadata": {},
   "outputs": [],
   "source": [
    "len([1,2,3]) # tuple ve dictionary için de çalışır"
   ]
  },
  {
   "cell_type": "code",
   "execution_count": null,
   "metadata": {
    "scrolled": true
   },
   "outputs": [],
   "source": [
    "a = []\n",
    "a.append(1)\n",
    "a.append(2)\n",
    "print(a)\n",
    "\n",
    "b = [5,6]\n",
    "print(a + b)"
   ]
  },
  {
   "cell_type": "markdown",
   "metadata": {},
   "source": [
    "List elemanları herhangi bir nesne olabilir, tek bir tip ile sınırlı olmasına gerek yoktur."
   ]
  },
  {
   "cell_type": "code",
   "execution_count": null,
   "metadata": {},
   "outputs": [],
   "source": [
    "a = [0,1,2,3,4,5,6,7,8,9]\n",
    "print(a)\n",
    "a[3] = 9.7\n",
    "a[4] = 'lalala'\n",
    "print(a)"
   ]
  },
  {
   "cell_type": "markdown",
   "metadata": {},
   "source": [
    "Listeler **dilimlenebiliyor** (i,j >=0): \n",
    "* liste[i]: i'inci eleman\n",
    "* liste[-i]: sondan i elemanı\n",
    "* liste[i:j]: i ve j elemanları arasındaki alt liste\n",
    "* liste[i:]: i elemanından sonuna kadar\n",
    "* liste[:i]: baştan i elamanına kadar"
   ]
  },
  {
   "cell_type": "code",
   "execution_count": null,
   "metadata": {},
   "outputs": [],
   "source": [
    "a = [0,1,2,3,4,5,6,7,8,9]\n",
    "print(a[0], a[2:5], a[-2], a[2:], a[:5], a[:-2], a[-2:])\n",
    "print(a[7:3:-1])\n",
    "print(a[::-1])"
   ]
  },
  {
   "cell_type": "markdown",
   "metadata": {},
   "source": [
    "**Liste Kavraması**: Liste içindeki kodun listeyi doldurması (List Comprehension)"
   ]
  },
  {
   "cell_type": "code",
   "execution_count": null,
   "metadata": {},
   "outputs": [],
   "source": [
    "[x ** 2 for x in range(5)]"
   ]
  },
  {
   "cell_type": "code",
   "execution_count": null,
   "metadata": {},
   "outputs": [],
   "source": [
    "l = []\n",
    "for x in range(5):\n",
    "    l.append(x ** 2)\n",
    "l"
   ]
  },
  {
   "cell_type": "markdown",
   "metadata": {},
   "source": [
    "Liste kavraması daha *pythonic* "
   ]
  },
  {
   "cell_type": "markdown",
   "metadata": {},
   "source": [
    "Set (küme):\n",
    "* Tekrar etmeyen verileri saklar\n",
    "* Listeler gibi değiştirilebilirler (mutable)\n",
    "* Bir verinin sette olup olmadığı hızlıca sorgulanabilir\n",
    "* Küme operasyonlarını destekler"
   ]
  },
  {
   "cell_type": "code",
   "execution_count": null,
   "metadata": {},
   "outputs": [],
   "source": [
    "a = set([1,2,3,4])\n",
    "print(a)\n",
    "a.add(5)\n",
    "print(a)\n",
    "a.add(5)\n",
    "print(a)\n",
    "print(5 in a)\n",
    "print(6 in a)\n",
    "b = set([4,5,6])\n",
    "print(a.union(b))\n",
    "print(a.intersection(b))\n",
    "print(a-b)"
   ]
  },
  {
   "cell_type": "markdown",
   "metadata": {},
   "source": [
    "## Özel Değerler"
   ]
  },
  {
   "cell_type": "code",
   "execution_count": null,
   "metadata": {},
   "outputs": [],
   "source": [
    "None"
   ]
  },
  {
   "cell_type": "code",
   "execution_count": null,
   "metadata": {},
   "outputs": [],
   "source": [
    "True"
   ]
  },
  {
   "cell_type": "code",
   "execution_count": null,
   "metadata": {},
   "outputs": [],
   "source": [
    "False"
   ]
  },
  {
   "cell_type": "markdown",
   "metadata": {},
   "source": [
    "## Fonksiyon Tanımlama"
   ]
  },
  {
   "cell_type": "code",
   "execution_count": null,
   "metadata": {},
   "outputs": [],
   "source": [
    "def topla(a, b):\n",
    "    return a + b"
   ]
  },
  {
   "cell_type": "code",
   "execution_count": null,
   "metadata": {},
   "outputs": [],
   "source": [
    "topla(3, 4)"
   ]
  },
  {
   "cell_type": "code",
   "execution_count": null,
   "metadata": {},
   "outputs": [],
   "source": [
    "def topla(a, b):\n",
    "    a + b"
   ]
  },
  {
   "cell_type": "code",
   "execution_count": null,
   "metadata": {},
   "outputs": [],
   "source": [
    "topla(3, 4)"
   ]
  },
  {
   "cell_type": "markdown",
   "metadata": {},
   "source": [
    "Python'da fonksiyon tanımlarken **return** ifadesi kullanılmaz ise, doğrudan **None** döner."
   ]
  },
  {
   "cell_type": "markdown",
   "metadata": {},
   "source": [
    "**Not:** Python'da kod blokları, girintilerle (indentation), Java ve C ailesinde bloklar küme parantezleri ile belirlenir."
   ]
  },
  {
   "cell_type": "markdown",
   "metadata": {},
   "source": [
    "Fonksiyon parametrelerine varsayılan (default) değerler atanabilir."
   ]
  },
  {
   "cell_type": "code",
   "execution_count": null,
   "metadata": {
    "scrolled": true
   },
   "outputs": [],
   "source": [
    "def kat(a, b=1):\n",
    "    return a*b\n",
    "print(kat(10))\n",
    "print(kat(10,2))"
   ]
  },
  {
   "cell_type": "markdown",
   "metadata": {},
   "source": [
    "Diğer varsayılan değerleri etkilemeden, sıranın daha sonrasındaki değerleri değiştirmek mümkün."
   ]
  },
  {
   "cell_type": "code",
   "execution_count": null,
   "metadata": {},
   "outputs": [],
   "source": [
    "def foo(a, b=1, c=1, d=1, e=0):\n",
    "    return (a+b+d+e)*c\n",
    "foo(1, c=2)"
   ]
  },
  {
   "cell_type": "markdown",
   "metadata": {},
   "source": [
    "## Referanslar"
   ]
  },
  {
   "cell_type": "markdown",
   "metadata": {},
   "source": [
    "Referans, bir nesnenin hafızadaki adresidir. Python'da değişkenlerin hepsine referanslar üzerinden erişilir. Aynı hafızaya işaret eden birden fazla referans olabilir."
   ]
  },
  {
   "cell_type": "code",
   "execution_count": null,
   "metadata": {},
   "outputs": [],
   "source": [
    "a = [1,2,3]\n",
    "b = a\n",
    "c = a.copy()\n",
    "a.append(4)\n",
    "print(b)\n",
    "print(c)"
   ]
  },
  {
   "cell_type": "markdown",
   "metadata": {},
   "source": [
    "Önemli Not: **is** ile **==** aynı operatör değiller. Birisi referansları (hafıza adresini) kontrol ederken diğeri değerleri kontrol eder"
   ]
  },
  {
   "cell_type": "code",
   "execution_count": null,
   "metadata": {},
   "outputs": [],
   "source": [
    "a = [1, 2]\n",
    "b = [1, 2]\n",
    "c = a\n",
    "print(a == b)\n",
    "print(a is b)\n",
    "print(a is c)"
   ]
  },
  {
   "cell_type": "markdown",
   "metadata": {},
   "source": [
    "## Koşullu Önermeler"
   ]
  },
  {
   "cell_type": "code",
   "execution_count": null,
   "metadata": {},
   "outputs": [],
   "source": [
    "def kosulTesti(x):\n",
    "    if x > 5:\n",
    "        print('x beşten büyük: ', x)\n",
    "    elif x > 0:\n",
    "        print('x pozitif: ',x )\n",
    "        if x > 3:\n",
    "            print('x üç ile beş arasında: ', x)\n",
    "        else:\n",
    "            print('x üç ile sıfır arasında: ', x)\n",
    "    elif x == 0:\n",
    "        print('x sıfır: ', x)\n",
    "    else:\n",
    "        print('x negatif: ', x)\n",
    "kosulTesti(6)\n",
    "kosulTesti(4)\n",
    "kosulTesti(1)\n",
    "kosulTesti(0)\n",
    "kosulTesti(-1)"
   ]
  },
  {
   "cell_type": "markdown",
   "metadata": {},
   "source": [
    "## Döngüler"
   ]
  },
  {
   "cell_type": "markdown",
   "metadata": {},
   "source": [
    "**While** döngüsü"
   ]
  },
  {
   "cell_type": "code",
   "execution_count": null,
   "metadata": {},
   "outputs": [],
   "source": [
    "x = 0\n",
    "while x < 3:\n",
    "    x += 1 #x = x + 1, x++\n",
    "    print('Hello')"
   ]
  },
  {
   "cell_type": "markdown",
   "metadata": {},
   "source": [
    "**For** döngüsü"
   ]
  },
  {
   "cell_type": "code",
   "execution_count": null,
   "metadata": {},
   "outputs": [],
   "source": [
    "for i in [1,2,3,4]:\n",
    "    print(i)\n",
    "   "
   ]
  },
  {
   "cell_type": "markdown",
   "metadata": {},
   "source": [
    "**range** fonksiyonu:\n",
    "* range(e): [0,1,..,e-1]\n",
    "* range(s, e): [s, s+1,..,e-1]\n",
    "* range(s, e, inc): [s, s+inc, .., e-inc]\n"
   ]
  },
  {
   "cell_type": "code",
   "execution_count": null,
   "metadata": {
    "scrolled": true
   },
   "outputs": [],
   "source": [
    "for i in range(3, 13, 2):\n",
    "    print(i)"
   ]
  },
  {
   "cell_type": "code",
   "execution_count": null,
   "metadata": {
    "scrolled": true
   },
   "outputs": [],
   "source": [
    "for i in range(13, 3, -2):\n",
    "    print(i, end=' ')"
   ]
  },
  {
   "cell_type": "code",
   "execution_count": null,
   "metadata": {},
   "outputs": [],
   "source": [
    "a = list(range(5))\n",
    "a"
   ]
  },
  {
   "cell_type": "markdown",
   "metadata": {},
   "source": [
    "##  import, from, as"
   ]
  },
  {
   "cell_type": "markdown",
   "metadata": {},
   "source": [
    "* Python jargonunda belirli tanım ve ifadeler içeren dosyalara modül denir. \n",
    "* Bir modüldeki Python koduna **import** komutu ile erişilebilir\n",
    "* Bir modüldeki spesifik bir kısmı almak için **from** komutu vardır\n",
    "* Modülü aldıktan sonra kullanım kolaylığı için adı **as** komutu ile belirtilebilir"
   ]
  },
  {
   "cell_type": "code",
   "execution_count": null,
   "metadata": {},
   "outputs": [],
   "source": [
    "import datetime\n",
    "x = datetime.datetime.now()\n",
    "print(x)"
   ]
  },
  {
   "cell_type": "code",
   "execution_count": null,
   "metadata": {},
   "outputs": [],
   "source": [
    "import datetime as dt\n",
    "x = dt.datetime.now()\n",
    "print(x)"
   ]
  },
  {
   "cell_type": "code",
   "execution_count": null,
   "metadata": {},
   "outputs": [],
   "source": [
    "from datetime import datetime\n",
    "x = datetime.now()\n",
    "print(x)"
   ]
  },
  {
   "cell_type": "code",
   "execution_count": null,
   "metadata": {},
   "outputs": [],
   "source": [
    "from datetime import datetime as dt\n",
    "x = dt.now()\n",
    "print(x)"
   ]
  },
  {
   "cell_type": "markdown",
   "metadata": {},
   "source": [
    "## Konsoldan Girdi"
   ]
  },
  {
   "cell_type": "markdown",
   "metadata": {},
   "source": [
    "Python'da **input** komutu, konsoldan veri girdisi sağlar. Her zaman bir string döndürür. Girdi türünden eminsek doğrudan çevrilebilir ya da tipi **eval** komutu ile tahmin edilebilir (**eval** komutu, güvenlik riski oluşturduğu için genel olarak tercih edilmemektedir)."
   ]
  },
  {
   "cell_type": "code",
   "execution_count": null,
   "metadata": {},
   "outputs": [],
   "source": [
    "inp=input('deneme: ')\n",
    "print(type(inp))\n",
    "print(type(eval(inp)))"
   ]
  },
  {
   "cell_type": "markdown",
   "metadata": {},
   "source": [
    "## Dosya Girdi-Çıktı İşlemleri"
   ]
  },
  {
   "cell_type": "markdown",
   "metadata": {},
   "source": [
    "İlk başta dosyayı açmak lazım: \n",
    "```python\n",
    "f = open(dosya_adı, erişim_türü)\n",
    "```\n",
    "Erişim türü dosyanın ne şekilde açılacağını belirler: \n",
    "* Okuma: ‘r’, ‘rb’, ‘r+’, ‘rb+’\n",
    "* Yazma: ‘w’, ‘wb’, ‘w+’, ‘wb+’\n",
    "* Ekleme: ‘a’, ‘ab’, ‘a+’, ‘ab+’ \n",
    "\n",
    "Erişim türü izin verdikçe dosya okunuk yazılabilir:\n",
    "```python\n",
    "satirlar = f.readlines()\n",
    "f.write(yazi)\n",
    "```"
   ]
  }
 ],
 "metadata": {
  "kernelspec": {
   "display_name": "Python 3",
   "language": "python",
   "name": "python3"
  },
  "language_info": {
   "codemirror_mode": {
    "name": "ipython",
    "version": 3
   },
   "file_extension": ".py",
   "mimetype": "text/x-python",
   "name": "python",
   "nbconvert_exporter": "python",
   "pygments_lexer": "ipython3",
   "version": "3.6.5"
  }
 },
 "nbformat": 4,
 "nbformat_minor": 1
}
