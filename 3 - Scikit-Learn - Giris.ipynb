{
 "cells": [
  {
   "cell_type": "markdown",
   "metadata": {},
   "source": [
    "# Scikit-Learn"
   ]
  },
  {
   "cell_type": "markdown",
   "metadata": {},
   "source": [
    "## Giriş"
   ]
  },
  {
   "cell_type": "markdown",
   "metadata": {},
   "source": [
    "**Scikit-Learn**, Python için en çok kullanılan ve en kapsamlı yapay öğrenme kütüphanelerinden birisidir. Numpy, Matplotlib, Pandas gibi kütüphaneler ile entegre kullanılabilir. Bunun yanında derin öğrenme gibi eksik olduğu noktalarda diğer yapay öğrenme kütüphaneleri ile de iyi anlaşır. Genel olarak kullanımı kolaydır. Detaylar için: https://scikit-learn.org/"
   ]
  },
  {
   "cell_type": "markdown",
   "metadata": {},
   "source": [
    "### Scikit-Learn içindeki Hazır Veri Setleri"
   ]
  },
  {
   "cell_type": "markdown",
   "metadata": {},
   "source": [
    "Scikit-Learn içinde bir takım hazır veri seti vardır. Bu siteden detaylarına ulaşabilirsiniz: https://scikit-learn.org/stable/datasets/index.html. Bu veri setlerine ulaşmak için hazır işlevler mevcuttur. Veri setini, numpy arrayleri içeren, `Bunch` isimli bir veri yapısında yükler. Girdi ve hedef verilerine, köşeli parantez ile ulaşmak mümkündür."
   ]
  },
  {
   "cell_type": "code",
   "execution_count": 1,
   "metadata": {
    "scrolled": true
   },
   "outputs": [
    {
     "name": "stdout",
     "output_type": "stream",
     "text": [
      "Scikit:  <class 'sklearn.utils.Bunch'>\n",
      "['DESCR', 'data', 'feature_names', 'filename', 'target', 'target_names']\n"
     ]
    }
   ],
   "source": [
    "%matplotlib inline\n",
    "import numpy as np\n",
    "from sklearn import datasets\n",
    "iris_data = datasets.load_iris()\n",
    "print('Scikit: ',type(iris_data))\n",
    "print(dir(iris_data))"
   ]
  },
  {
   "cell_type": "markdown",
   "metadata": {},
   "source": [
    "DESCR veri setini anlatan bilgiler içerir"
   ]
  },
  {
   "cell_type": "code",
   "execution_count": 2,
   "metadata": {},
   "outputs": [
    {
     "name": "stdout",
     "output_type": "stream",
     "text": [
      ".. _iris_dataset:\n",
      "\n",
      "Iris plants dataset\n",
      "--------------------\n",
      "\n",
      "**Data Set Characteristics:**\n",
      "\n",
      "    :Number of Instances: 150 (50 in each of three classes)\n",
      "    :Number of Attributes: 4 numeric, predictive attributes and the class\n",
      "    :Attribute Information:\n",
      "        - sepal length in cm\n",
      "        - sepal width in cm\n",
      "        - petal length in cm\n",
      "        - petal width in cm\n",
      "        - class:\n",
      "                - Iris-Setosa\n",
      "                - Iris-Versicolour\n",
      "                - Iris-Virginica\n",
      "                \n",
      "    :Summary Statistics:\n",
      "\n",
      "    ============== ==== ==== ======= ===== ====================\n",
      "                    Min  Max   Mean    SD   Class Correlation\n",
      "    ============== ==== ==== ======= ===== ====================\n",
      "    sepal length:   4.3  7.9   5.84   0.83    0.7826\n",
      "    sepal width:    2.0  4.4   3.05   0.43   -0.4194\n",
      "    petal length:   1.0  6.9   3.76   1.76    0.9490  (high!)\n",
      "    petal width:    0.1  2.5   1.20   0.76    0.9565  (high!)\n",
      "    ============== ==== ==== ======= ===== ====================\n",
      "\n",
      "    :Missing Attribute Values: None\n",
      "    :Class Distribution: 33.3% for each of 3 classes.\n",
      "    :Creator: R.A. Fisher\n",
      "    :Donor: Michael Marshall (MARSHALL%PLU@io.arc.nasa.gov)\n",
      "    :Date: July, 1988\n",
      "\n",
      "The famous Iris database, first used by Sir R.A. Fisher. The dataset is taken\n",
      "from Fisher's paper. Note that it's the same as in R, but not as in the UCI\n",
      "Machine Learning Repository, which has two wrong data points.\n",
      "\n",
      "This is perhaps the best known database to be found in the\n",
      "pattern recognition literature.  Fisher's paper is a classic in the field and\n",
      "is referenced frequently to this day.  (See Duda & Hart, for example.)  The\n",
      "data set contains 3 classes of 50 instances each, where each class refers to a\n",
      "type of iris plant.  One class is linearly separable from the other 2; the\n",
      "latter are NOT linearly separable from each other.\n",
      "\n",
      ".. topic:: References\n",
      "\n",
      "   - Fisher, R.A. \"The use of multiple measurements in taxonomic problems\"\n",
      "     Annual Eugenics, 7, Part II, 179-188 (1936); also in \"Contributions to\n",
      "     Mathematical Statistics\" (John Wiley, NY, 1950).\n",
      "   - Duda, R.O., & Hart, P.E. (1973) Pattern Classification and Scene Analysis.\n",
      "     (Q327.D83) John Wiley & Sons.  ISBN 0-471-22361-1.  See page 218.\n",
      "   - Dasarathy, B.V. (1980) \"Nosing Around the Neighborhood: A New System\n",
      "     Structure and Classification Rule for Recognition in Partially Exposed\n",
      "     Environments\".  IEEE Transactions on Pattern Analysis and Machine\n",
      "     Intelligence, Vol. PAMI-2, No. 1, 67-71.\n",
      "   - Gates, G.W. (1972) \"The Reduced Nearest Neighbor Rule\".  IEEE Transactions\n",
      "     on Information Theory, May 1972, 431-433.\n",
      "   - See also: 1988 MLC Proceedings, 54-64.  Cheeseman et al\"s AUTOCLASS II\n",
      "     conceptual clustering system finds 3 classes in the data.\n",
      "   - Many, many more ...\n"
     ]
    }
   ],
   "source": [
    "print(iris_data.DESCR)"
   ]
  },
  {
   "cell_type": "code",
   "execution_count": 3,
   "metadata": {},
   "outputs": [
    {
     "name": "stdout",
     "output_type": "stream",
     "text": [
      "Girdi:  <class 'numpy.ndarray'>\n",
      "Hedef:  <class 'numpy.ndarray'>\n"
     ]
    }
   ],
   "source": [
    "print('Girdi: ', type(iris_data['data']))\n",
    "print('Hedef: ', type(iris_data['target']))"
   ]
  },
  {
   "cell_type": "code",
   "execution_count": 4,
   "metadata": {},
   "outputs": [
    {
     "name": "stdout",
     "output_type": "stream",
     "text": [
      "(150, 4) (150,)\n"
     ]
    }
   ],
   "source": [
    "print(iris_data['data'].shape, iris_data['target'].shape)"
   ]
  },
  {
   "cell_type": "code",
   "execution_count": 5,
   "metadata": {},
   "outputs": [
    {
     "name": "stdout",
     "output_type": "stream",
     "text": [
      "[0 0 0 0 0 0 0 0 0 0 0 0 0 0 0 0 0 0 0 0 0 0 0 0 0 0 0 0 0 0 0 0 0 0 0 0 0\n",
      " 0 0 0 0 0 0 0 0 0 0 0 0 0 1 1 1 1 1 1 1 1 1 1 1 1 1 1 1 1 1 1 1 1 1 1 1 1\n",
      " 1 1 1 1 1 1 1 1 1 1 1 1 1 1 1 1 1 1 1 1 1 1 1 1 1 1 2 2 2 2 2 2 2 2 2 2 2\n",
      " 2 2 2 2 2 2 2 2 2 2 2 2 2 2 2 2 2 2 2 2 2 2 2 2 2 2 2 2 2 2 2 2 2 2 2 2 2\n",
      " 2 2]\n"
     ]
    }
   ],
   "source": [
    "print(iris_data['target'])"
   ]
  },
  {
   "cell_type": "code",
   "execution_count": 6,
   "metadata": {},
   "outputs": [
    {
     "name": "stdout",
     "output_type": "stream",
     "text": [
      "['setosa' 'versicolor' 'virginica']\n"
     ]
    }
   ],
   "source": [
    "print(iris_data['target_names'])"
   ]
  },
  {
   "cell_type": "code",
   "execution_count": 7,
   "metadata": {},
   "outputs": [
    {
     "name": "stdout",
     "output_type": "stream",
     "text": [
      "['sepal length (cm)', 'sepal width (cm)', 'petal length (cm)', 'petal width (cm)']\n"
     ]
    }
   ],
   "source": [
    "print(iris_data['feature_names'])"
   ]
  },
  {
   "cell_type": "markdown",
   "metadata": {},
   "source": [
    "## Estimator API: Tahminleyici Uygulama Programı Arayüzü\n",
    "\n",
    "Scikit-Learn kütüphanesindeki bütün yapay öğrenme algoritmaları Estimator API kullanılarak yazılmıştır. Bu API sayesinde algoritmaları tutarlı bir şekilde kullanmak mümkündür. Bu APInin temel özelleklikleri anlaşıldıktan sonra, Scikit-Learn kütüphanesini kullanmak çok kolaydır. \n",
    "\n",
    "Bu APIyi kullanan bir algoritmayı kullanmak için genel olarak aşağıdaki adımlar izlenir:\n",
    "\n",
    "1. Problemimize uygun yapay öğrenme modelini gerçekleştirecek `estimator` sınıfını `import` etmek\n",
    "2. Modelin hiperparametrelerini belirlemek. (Daha sonra bu parametreleri nasıl seçeceğimizi göreceğiz)\n",
    "3. Verilerimizi hazırlamak (Gözetimli öğrenme için girdi ve hedef verilerini, gözetimsiz öğrenme için doğrudan veriyi)\n",
    "4. Modeli `fit()` fonksiyonunu çağırarak ile öğrenmek.\n",
    "5. Yeni veri üzerinde çıkarım yapmak:\n",
    "  * Gözetimli öğrenme için `predict()` fonksiyonunu çağırarak\n",
    "  * Gözetimsiz öğrenme için, modele göre, `transform()` ya da `predict()` fonksiyonlarından birisini çağırarak.\n",
    "\n",
    "Bu adımları bir doğrusal regresyon problemi üzerinden takip edelim. "
   ]
  },
  {
   "cell_type": "code",
   "execution_count": 8,
   "metadata": {},
   "outputs": [
    {
     "data": {
      "text/plain": [
       "<matplotlib.collections.PathCollection at 0x24b329395c0>"
      ]
     },
     "execution_count": 8,
     "metadata": {},
     "output_type": "execute_result"
    },
    {
     "data": {
      "image/png": "[encoded data removed]",
      "text/plain": [
       "<Figure size 432x288 with 1 Axes>"
      ]
     },
     "metadata": {
      "needs_background": "light"
     },
     "output_type": "display_data"
    }
   ],
   "source": [
    "import matplotlib.pyplot as plt\n",
    "x = np.linspace(-1,1,50)\n",
    "y = 2*x+1 + np.random.normal(0,0.25,len(x))\n",
    "plt.scatter(x,y)"
   ]
  },
  {
   "cell_type": "markdown",
   "metadata": {},
   "source": [
    "1. Uygun modeli yüklemek. Bu örnek için \"linear regression\""
   ]
  },
  {
   "cell_type": "code",
   "execution_count": 9,
   "metadata": {},
   "outputs": [],
   "source": [
    "from sklearn.linear_model import LinearRegression"
   ]
  },
  {
   "cell_type": "markdown",
   "metadata": {},
   "source": [
    "2. Hiperparametrelerimizi belirleyelim."
   ]
  },
  {
   "cell_type": "code",
   "execution_count": 10,
   "metadata": {},
   "outputs": [
    {
     "name": "stdout",
     "output_type": "stream",
     "text": [
      "(fit_intercept=True, normalize=False, copy_X=True, n_jobs=None)\n",
      "Help on class LinearRegression in module sklearn.linear_model.base:\n",
      "\n",
      "class LinearRegression(LinearModel, sklearn.base.RegressorMixin)\n",
      " |  LinearRegression(fit_intercept=True, normalize=False, copy_X=True, n_jobs=None)\n",
      " |  \n",
      " |  Ordinary least squares Linear Regression.\n",
      " |  \n",
      " |  Parameters\n",
      " |  ----------\n",
      " |  fit_intercept : boolean, optional, default True\n",
      " |      whether to calculate the intercept for this model. If set\n",
      " |      to False, no intercept will be used in calculations\n",
      " |      (e.g. data is expected to be already centered).\n",
      " |  \n",
      " |  normalize : boolean, optional, default False\n",
      " |      This parameter is ignored when ``fit_intercept`` is set to False.\n",
      " |      If True, the regressors X will be normalized before regression by\n",
      " |      subtracting the mean and dividing by the l2-norm.\n",
      " |      If you wish to standardize, please use\n",
      " |      :class:`sklearn.preprocessing.StandardScaler` before calling ``fit`` on\n",
      " |      an estimator with ``normalize=False``.\n",
      " |  \n",
      " |  copy_X : boolean, optional, default True\n",
      " |      If True, X will be copied; else, it may be overwritten.\n",
      " |  \n",
      " |  n_jobs : int or None, optional (default=None)\n",
      " |      The number of jobs to use for the computation. This will only provide\n",
      " |      speedup for n_targets > 1 and sufficient large problems.\n",
      " |      ``None`` means 1 unless in a :obj:`joblib.parallel_backend` context.\n",
      " |      ``-1`` means using all processors. See :term:`Glossary <n_jobs>`\n",
      " |      for more details.\n",
      " |  \n",
      " |  Attributes\n",
      " |  ----------\n",
      " |  coef_ : array, shape (n_features, ) or (n_targets, n_features)\n",
      " |      Estimated coefficients for the linear regression problem.\n",
      " |      If multiple targets are passed during the fit (y 2D), this\n",
      " |      is a 2D array of shape (n_targets, n_features), while if only\n",
      " |      one target is passed, this is a 1D array of length n_features.\n",
      " |  \n",
      " |  intercept_ : array\n",
      " |      Independent term in the linear model.\n",
      " |  \n",
      " |  Examples\n",
      " |  --------\n",
      " |  >>> import numpy as np\n",
      " |  >>> from sklearn.linear_model import LinearRegression\n",
      " |  >>> X = np.array([[1, 1], [1, 2], [2, 2], [2, 3]])\n",
      " |  >>> # y = 1 * x_0 + 2 * x_1 + 3\n",
      " |  >>> y = np.dot(X, np.array([1, 2])) + 3\n",
      " |  >>> reg = LinearRegression().fit(X, y)\n",
      " |  >>> reg.score(X, y)\n",
      " |  1.0\n",
      " |  >>> reg.coef_\n",
      " |  array([1., 2.])\n",
      " |  >>> reg.intercept_ # doctest: +ELLIPSIS\n",
      " |  3.0000...\n",
      " |  >>> reg.predict(np.array([[3, 5]]))\n",
      " |  array([16.])\n",
      " |  \n",
      " |  Notes\n",
      " |  -----\n",
      " |  From the implementation point of view, this is just plain Ordinary\n",
      " |  Least Squares (scipy.linalg.lstsq) wrapped as a predictor object.\n",
      " |  \n",
      " |  Method resolution order:\n",
      " |      LinearRegression\n",
      " |      LinearModel\n",
      " |      abc.NewBase\n",
      " |      sklearn.base.BaseEstimator\n",
      " |      sklearn.base.RegressorMixin\n",
      " |      builtins.object\n",
      " |  \n",
      " |  Methods defined here:\n",
      " |  \n",
      " |  __init__(self, fit_intercept=True, normalize=False, copy_X=True, n_jobs=None)\n",
      " |      Initialize self.  See help(type(self)) for accurate signature.\n",
      " |  \n",
      " |  fit(self, X, y, sample_weight=None)\n",
      " |      Fit linear model.\n",
      " |      \n",
      " |      Parameters\n",
      " |      ----------\n",
      " |      X : array-like or sparse matrix, shape (n_samples, n_features)\n",
      " |          Training data\n",
      " |      \n",
      " |      y : array_like, shape (n_samples, n_targets)\n",
      " |          Target values. Will be cast to X's dtype if necessary\n",
      " |      \n",
      " |      sample_weight : numpy array of shape [n_samples]\n",
      " |          Individual weights for each sample\n",
      " |      \n",
      " |          .. versionadded:: 0.17\n",
      " |             parameter *sample_weight* support to LinearRegression.\n",
      " |      \n",
      " |      Returns\n",
      " |      -------\n",
      " |      self : returns an instance of self.\n",
      " |  \n",
      " |  ----------------------------------------------------------------------\n",
      " |  Data and other attributes defined here:\n",
      " |  \n",
      " |  __abstractmethods__ = frozenset()\n",
      " |  \n",
      " |  ----------------------------------------------------------------------\n",
      " |  Methods inherited from LinearModel:\n",
      " |  \n",
      " |  predict(self, X)\n",
      " |      Predict using the linear model\n",
      " |      \n",
      " |      Parameters\n",
      " |      ----------\n",
      " |      X : array_like or sparse matrix, shape (n_samples, n_features)\n",
      " |          Samples.\n",
      " |      \n",
      " |      Returns\n",
      " |      -------\n",
      " |      C : array, shape (n_samples,)\n",
      " |          Returns predicted values.\n",
      " |  \n",
      " |  ----------------------------------------------------------------------\n",
      " |  Methods inherited from sklearn.base.BaseEstimator:\n",
      " |  \n",
      " |  __getstate__(self)\n",
      " |  \n",
      " |  __repr__(self)\n",
      " |      Return repr(self).\n",
      " |  \n",
      " |  __setstate__(self, state)\n",
      " |  \n",
      " |  get_params(self, deep=True)\n",
      " |      Get parameters for this estimator.\n",
      " |      \n",
      " |      Parameters\n",
      " |      ----------\n",
      " |      deep : boolean, optional\n",
      " |          If True, will return the parameters for this estimator and\n",
      " |          contained subobjects that are estimators.\n",
      " |      \n",
      " |      Returns\n",
      " |      -------\n",
      " |      params : mapping of string to any\n",
      " |          Parameter names mapped to their values.\n",
      " |  \n",
      " |  set_params(self, **params)\n",
      " |      Set the parameters of this estimator.\n",
      " |      \n",
      " |      The method works on simple estimators as well as on nested objects\n",
      " |      (such as pipelines). The latter have parameters of the form\n",
      " |      ``<component>__<parameter>`` so that it's possible to update each\n",
      " |      component of a nested object.\n",
      " |      \n",
      " |      Returns\n",
      " |      -------\n",
      " |      self\n",
      " |  \n",
      " |  ----------------------------------------------------------------------\n",
      " |  Data descriptors inherited from sklearn.base.BaseEstimator:\n",
      " |  \n",
      " |  __dict__\n",
      " |      dictionary for instance variables (if defined)\n",
      " |  \n",
      " |  __weakref__\n",
      " |      list of weak references to the object (if defined)\n",
      " |  \n",
      " |  ----------------------------------------------------------------------\n",
      " |  Methods inherited from sklearn.base.RegressorMixin:\n",
      " |  \n",
      " |  score(self, X, y, sample_weight=None)\n",
      " |      Returns the coefficient of determination R^2 of the prediction.\n",
      " |      \n",
      " |      The coefficient R^2 is defined as (1 - u/v), where u is the residual\n",
      " |      sum of squares ((y_true - y_pred) ** 2).sum() and v is the total\n",
      " |      sum of squares ((y_true - y_true.mean()) ** 2).sum().\n",
      " |      The best possible score is 1.0 and it can be negative (because the\n",
      " |      model can be arbitrarily worse). A constant model that always\n",
      " |      predicts the expected value of y, disregarding the input features,\n",
      " |      would get a R^2 score of 0.0.\n",
      " |      \n",
      " |      Parameters\n",
      " |      ----------\n",
      " |      X : array-like, shape = (n_samples, n_features)\n",
      " |          Test samples. For some estimators this may be a\n",
      " |          precomputed kernel matrix instead, shape = (n_samples,\n",
      " |          n_samples_fitted], where n_samples_fitted is the number of\n",
      " |          samples used in the fitting for the estimator.\n",
      " |      \n",
      " |      y : array-like, shape = (n_samples) or (n_samples, n_outputs)\n",
      " |          True values for X.\n",
      " |      \n",
      " |      sample_weight : array-like, shape = [n_samples], optional\n",
      " |          Sample weights.\n",
      " |      \n",
      " |      Returns\n",
      " |      -------\n",
      " |      score : float\n",
      " |          R^2 of self.predict(X) wrt. y.\n",
      "\n",
      "None\n"
     ]
    }
   ],
   "source": [
    "#Nelere ihtiyacımız görmek için:\n",
    "from inspect import signature\n",
    "print(signature(LinearRegression))\n",
    "# Dökümantasyon için:\n",
    "# print(help(LinearRegression))\n",
    "model = LinearRegression(fit_intercept = True)"
   ]
  },
  {
   "cell_type": "markdown",
   "metadata": {},
   "source": [
    "3. Verimizi hazırlayalım. Scikit-Learn, girdileri 2 boyutlu, hedefleri de 1 boyutlu olarak bekliyor."
   ]
  },
  {
   "cell_type": "code",
   "execution_count": 12,
   "metadata": {},
   "outputs": [
    {
     "name": "stdout",
     "output_type": "stream",
     "text": [
      "(50,)\n",
      "(50, 1)\n"
     ]
    }
   ],
   "source": [
    "print(x.shape) #bir boyutlu\n",
    "X = x[:,np.newaxis] #iki boyutlu yaptık, alternatif olarak X = x.reshape(len(x),1)\n",
    "print(X.shape)"
   ]
  },
  {
   "cell_type": "markdown",
   "metadata": {},
   "source": [
    "4. Öğrenelim"
   ]
  },
  {
   "cell_type": "code",
   "execution_count": 13,
   "metadata": {},
   "outputs": [
    {
     "name": "stdout",
     "output_type": "stream",
     "text": [
      "Öğrenilmiş Ağırlık:  [1.92551778]\n",
      "Öğrenilmiş Kesim (intercept):  1.066137892752497\n"
     ]
    }
   ],
   "source": [
    "model.fit(X,y)\n",
    "print('Öğrenilmiş Ağırlık: ', model.coef_)\n",
    "print('Öğrenilmiş Kesim (intercept): ', model.intercept_)"
   ]
  },
  {
   "cell_type": "markdown",
   "metadata": {},
   "source": [
    "5. Yeni veri gelince"
   ]
  },
  {
   "cell_type": "code",
   "execution_count": 15,
   "metadata": {
    "scrolled": false
   },
   "outputs": [
    {
     "data": {
      "text/plain": [
       "<matplotlib.collections.PathCollection at 0x24b33d556d8>"
      ]
     },
     "execution_count": 15,
     "metadata": {},
     "output_type": "execute_result"
    },
    {
     "data": {
      "image/png": "[encoded data removed]",
      "text/plain": [
       "<Figure size 432x288 with 1 Axes>"
      ]
     },
     "metadata": {
      "needs_background": "light"
     },
     "output_type": "display_data"
    }
   ],
   "source": [
    "#-1 ve 1 arasında rastgele veri yaratalım\n",
    "xnew = -1+2*np.random.rand(10)\n",
    "ynew = model.predict(xnew[:,np.newaxis])\n",
    "plt.scatter(xnew, ynew)\n",
    "#Gercek model ile denemek istersek\n",
    "#ytrue = 2*xnew+1\n",
    "#plt.scatter(xnew,ytrue)"
   ]
  },
  {
   "cell_type": "markdown",
   "metadata": {},
   "source": [
    "Geçtiğimiz örnek için orjinal verimiz ile modelin yakınlığına da bakabiliriz."
   ]
  },
  {
   "cell_type": "code",
   "execution_count": 16,
   "metadata": {
    "scrolled": false
   },
   "outputs": [
    {
     "data": {
      "text/plain": [
       "[<matplotlib.lines.Line2D at 0x24b33d878d0>]"
      ]
     },
     "execution_count": 16,
     "metadata": {},
     "output_type": "execute_result"
    },
    {
     "data": {
      "image/png": "[encoded data removed]",
      "text/plain": [
       "<Figure size 432x288 with 1 Axes>"
      ]
     },
     "metadata": {
      "needs_background": "light"
     },
     "output_type": "display_data"
    }
   ],
   "source": [
    "ypred = model.predict(X)\n",
    "plt.scatter(X,y)\n",
    "plt.plot(X,ypred,'r')"
   ]
  },
  {
   "cell_type": "markdown",
   "metadata": {},
   "source": [
    "Grafik beklediğimiz üzere kötü durmuyor. Modelin sayısal performansına (örneğin: ortalama karesel hatasına) da bakabiliriz. Scikit-learn, `metrics` modulü ile bu konuda işlevsellik sağlıyor. (Değişik model performansları ve daha fazlası için: https://scikit-learn.org/stable/modules/model_evaluation.html)"
   ]
  },
  {
   "cell_type": "code",
   "execution_count": 17,
   "metadata": {},
   "outputs": [
    {
     "data": {
      "text/plain": [
       "0.051693373482130295"
      ]
     },
     "execution_count": 17,
     "metadata": {},
     "output_type": "execute_result"
    }
   ],
   "source": [
    "from sklearn.metrics import mean_squared_error\n",
    "mean_squared_error(y,ypred)"
   ]
  },
  {
   "cell_type": "markdown",
   "metadata": {},
   "source": [
    "Buraya kadar modelimizin eğitim kümesi üzerindeki performansına baktık. Ancak biliyoruz ki daha kapsamlı performans testleri gerekiyor."
   ]
  },
  {
   "cell_type": "markdown",
   "metadata": {},
   "source": [
    "## Performans Testleri"
   ]
  },
  {
   "cell_type": "markdown",
   "metadata": {},
   "source": [
    "Yukarıda gördüğümüz adımlar, sürecin önemli iki kısmını atlıyor. Bunlardan birincisi, öğrenilen modelin performans testi, ikincisi ise doğru hiperparametre seçilmesi. \n",
    "\n",
    "Bunun için iris veri setimize geri dönelim ve algoritma olarak da Logistic Regression ile başlayalım."
   ]
  },
  {
   "cell_type": "code",
   "execution_count": 17,
   "metadata": {
    "scrolled": true
   },
   "outputs": [
    {
     "data": {
      "text/plain": [
       "LogisticRegression(C=1.0, class_weight=None, dual=False, fit_intercept=True,\n",
       "          intercept_scaling=1, max_iter=1000, multi_class='auto',\n",
       "          n_jobs=None, penalty='l2', random_state=None, solver='lbfgs',\n",
       "          tol=0.0001, verbose=0, warm_start=False)"
      ]
     },
     "execution_count": 17,
     "metadata": {},
     "output_type": "execute_result"
    }
   ],
   "source": [
    "from sklearn.linear_model import LogisticRegression\n",
    "#print(signature(LogisticRegression))\n",
    "#Şimdilik varsayılan hiperparametre değerleri ile devam edelim.\n",
    "#Sadece iterasyon sayısını arttırıyoruz ve uyarıları bastırmak için iki parametre veriyoruz\n",
    "#Sorun varsa multi_class = 'ovr'\n",
    "logregModel = LogisticRegression(multi_class = 'auto', solver ='lbfgs', max_iter = 1000) \n",
    "X = iris_data['data']\n",
    "y = iris_data['target']\n",
    "logregModel.fit(X,y)"
   ]
  },
  {
   "cell_type": "markdown",
   "metadata": {},
   "source": [
    "Modelin öğrenme performansına bakalım. (Uyarı: Veriyi henüz eğitim kümesi, validasyon kümesi ve test kümesi diye ayırmadık)."
   ]
  },
  {
   "cell_type": "code",
   "execution_count": 18,
   "metadata": {},
   "outputs": [
    {
     "data": {
      "text/plain": [
       "0.9733333333333334"
      ]
     },
     "execution_count": 18,
     "metadata": {},
     "output_type": "execute_result"
    }
   ],
   "source": [
    "from sklearn.metrics import accuracy_score\n",
    "ypred = logregModel.predict(X)\n",
    "accuracy_score(y, ypred)\n"
   ]
  },
  {
   "cell_type": "markdown",
   "metadata": {},
   "source": [
    "Bütün veri seti ile öğrenme performansı iyi ancak modeli görmediğimiz veri üzerinde denememiz gerekli. Scikit-learn, veriyi ayırmak için işlevsellik sağlıyor. `train_test_split` sınıfına `test_size` parametresi vererek ayırma oranlarını belirleniyor."
   ]
  },
  {
   "cell_type": "code",
   "execution_count": 19,
   "metadata": {},
   "outputs": [
    {
     "data": {
      "text/plain": [
       "0.9666666666666667"
      ]
     },
     "execution_count": 19,
     "metadata": {},
     "output_type": "execute_result"
    }
   ],
   "source": [
    "#model_selection çalışmaz ise cross_validation\n",
    "from sklearn.model_selection import train_test_split\n",
    "#Hep aynı şekilde ayırması için random seed belirliyoruz. \n",
    "#Bu şart değil ama geliştirme aşamasında faydalı\n",
    "#80%-20% ayırırsak \n",
    "Xtrain, Xtest, ytrain, ytest = train_test_split(X, y, test_size = 0.2, \n",
    "                                                random_state = 12)\n",
    "logregModel.fit(Xtrain,ytrain)\n",
    "ypred = logregModel.predict(Xtest)\n",
    "accuracy_score(ytest,ypred)"
   ]
  },
  {
   "cell_type": "markdown",
   "metadata": {},
   "source": [
    "Bildiğimiz üzere, tek bir test her zaman en sağlıklı yaklaşım değil. Örneğin:"
   ]
  },
  {
   "cell_type": "code",
   "execution_count": 20,
   "metadata": {},
   "outputs": [
    {
     "data": {
      "text/plain": [
       "1.0"
      ]
     },
     "execution_count": 20,
     "metadata": {},
     "output_type": "execute_result"
    }
   ],
   "source": [
    "from sklearn.model_selection import train_test_split\n",
    "#Hep aynı şekilde ayırması için random seed belirliyoruz. Bu şart değil ama geliştirme aşamasında faydalı\n",
    "#80%-20% ayırırsak \n",
    "Xtrain, Xtest, ytrain, ytest = train_test_split(X, y, test_size = 0.2, \n",
    "                                                random_state = 12321)\n",
    "logregModel.fit(Xtrain,ytrain)\n",
    "ypred = logregModel.predict(Xtest)\n",
    "accuracy_score(ytest,ypred)"
   ]
  },
  {
   "cell_type": "markdown",
   "metadata": {},
   "source": [
    "Bu yüzden çapraz geçerlilik (cross-validation) yaklaşımını kullanıyoruz. Scikit-learn kütüphanesindeki `cross_val_score` sınıfı bu işlevselliği sağlıyor."
   ]
  },
  {
   "cell_type": "code",
   "execution_count": 21,
   "metadata": {},
   "outputs": [
    {
     "name": "stdout",
     "output_type": "stream",
     "text": [
      "Değerler:  [0.96666667 1.         0.93333333 0.96666667 1.        ]\n",
      "Ortalama (2 standart sapma): 0.97 (+/- 0.05)\n"
     ]
    }
   ],
   "source": [
    "from sklearn.model_selection import cross_val_score\n",
    "crossValScores = cross_val_score(logregModel, X, y, cv=5)\n",
    "print('Değerler: ', crossValScores)\n",
    "print('Ortalama (2 standart sapma): %0.2f (+/- %0.2f)' \n",
    "      % (crossValScores.mean(), crossValScores.std() * 2))"
   ]
  },
  {
   "cell_type": "markdown",
   "metadata": {},
   "source": [
    "Çapraz geçerlilik sırasında rastgele bölmek önemli. Bunun için `ShuffleSplit` ve `KFold` sınıflarını kullanıyoruz. ShuffleSplit, veriyi, belirlenen **orana** göre verilen sayı kadar rastgele ayırıyor. KFold, (shuffle=True iken), veriyi karıştırdıktan sonra verilen sayı kadar parçaya bölüyor."
   ]
  },
  {
   "cell_type": "code",
   "execution_count": 22,
   "metadata": {},
   "outputs": [
    {
     "name": "stdout",
     "output_type": "stream",
     "text": [
      "Her seferinde rastgele bölünce: \n",
      "[0.97368421 0.94736842 0.97368421 0.94736842 1.        ]\n",
      "Bir kere rastgele karıştırıp düzenli bölünce:\n",
      "[1.         0.93333333 1.         0.9        1.        ]\n"
     ]
    }
   ],
   "source": [
    "from sklearn.model_selection import ShuffleSplit, KFold\n",
    "\n",
    "#Rastgele davranışını temizle\n",
    "import time\n",
    "np.random.seed(int(time.time()))\n",
    "\n",
    "#Rastgele 5 parçaya bölmek için:\n",
    "cv = ShuffleSplit(n_splits=5, test_size=0.25)\n",
    "print('Her seferinde rastgele bölünce: ')\n",
    "print(cross_val_score(logregModel, X, y, cv=cv))\n",
    "#Rastgele karıştırıp düzenli 5 parçaya bölmek için\n",
    "cv = KFold(n_splits=5, shuffle=True)\n",
    "print('Bir kere rastgele karıştırıp düzenli bölünce:')\n",
    "print(cross_val_score(logregModel, X, y, cv=cv))"
   ]
  },
  {
   "cell_type": "markdown",
   "metadata": {},
   "source": [
    "Bu örnek için olmasa da birçok veri setinde, sınıfların dağılım oranı farklı olabilir. Performans ölçerken buna dikkat etmemiz gerekli. Bunun için, yukarıdaki sınıfların *Stratified* versiyonları da var."
   ]
  },
  {
   "cell_type": "code",
   "execution_count": 23,
   "metadata": {},
   "outputs": [
    {
     "name": "stdout",
     "output_type": "stream",
     "text": [
      "Sınıf dağılımına göre dağıtınca:\n",
      "[0.97368421 0.92105263 0.94736842 1.         1.        ]\n",
      "Sınıf dağılımına göre dağıtınca:\n",
      "[1.         1.         0.96666667 0.9        1.        ]\n"
     ]
    }
   ],
   "source": [
    "from sklearn.model_selection import StratifiedShuffleSplit, StratifiedKFold\n",
    "\n",
    "np.random.seed(int(time.time()))\n",
    "\n",
    "cv = StratifiedShuffleSplit(n_splits=5, test_size=0.25)\n",
    "print('Sınıf dağılımına göre dağıtınca:')\n",
    "print(cross_val_score(logregModel, X, y, cv=cv))\n",
    "\n",
    "cv = StratifiedKFold(n_splits=5, shuffle=True)\n",
    "print('Sınıf dağılımına göre dağıtınca:')\n",
    "print(cross_val_score(logregModel, X, y, cv=cv))"
   ]
  },
  {
   "cell_type": "markdown",
   "metadata": {},
   "source": [
    "Bir başka çapraz geçerlilik yöntemi ise her seferinde sadece bir veri noktasını test olarak ayırarak denemektir:"
   ]
  },
  {
   "cell_type": "code",
   "execution_count": 25,
   "metadata": {
    "scrolled": true
   },
   "outputs": [
    {
     "name": "stdout",
     "output_type": "stream",
     "text": [
      "0.9666666666666667\n"
     ]
    }
   ],
   "source": [
    "from sklearn.model_selection import LeaveOneOut\n",
    "cv = LeaveOneOut()\n",
    "scores = cross_val_score(logregModel, X, y, cv=cv)\n",
    "print(scores.mean())"
   ]
  },
  {
   "cell_type": "markdown",
   "metadata": {},
   "source": [
    "##  Hiperparametre Seçimi"
   ]
  },
  {
   "cell_type": "markdown",
   "metadata": {},
   "source": [
    "Buraya kadar performans testi yaptık. Ancak bu testler sabit hiperparametre seçimleri için geçerliydi. Scikit-learn bunu yapmak için iki temel işlevsellik sunuyor:\n",
    "1. Grid Taraması: Verilen hiperparametre değerlerinin bütün kombinasyonlarının denenmesi ve verilen performans testine göre en iyi kombinasyonun bulunması. `GridSearchCV`\n",
    "2. Rastgele Tarama: Verilen hiperparametre dağılımlarından belirlenen sayıda örneklem alınarak denenmesi ve verilen performans testine göre en iyi kombinasyonun bulunması. `RandomizedSearchCV`\n",
    "\n",
    "İlk olarak Grid Taraması ile başlayalım. Logistic regression algoritmasının en temel hiperparametresi, regularizasyon ağırlığı. Bunu `C` ile belirliyoruz. Bu parametre, regülarizasyon ağırlığı ile ters orantılı (düşük C ==> yüksek regülarizasyon). \n"
   ]
  },
  {
   "cell_type": "code",
   "execution_count": 29,
   "metadata": {},
   "outputs": [
    {
     "name": "stdout",
     "output_type": "stream",
     "text": [
      "En iyi C:  1.0\n"
     ]
    }
   ],
   "source": [
    "from sklearn.model_selection import GridSearchCV\n",
    "\n",
    "np.random.seed(int(time.time()))\n",
    "#Belirlediğimiz performans testi\n",
    "cv=StratifiedKFold(n_splits=5, shuffle=True)\n",
    "paramsToTest = {'C':[0.1,0.5,1.0,2.5,5.0]}\n",
    "gscv = GridSearchCV(LogisticRegression(multi_class = 'auto', solver ='lbfgs', \n",
    "                                       max_iter = 1000), \n",
    "                    paramsToTest, cv=cv,return_train_score=True)\n",
    "gscv.fit(X,y)\n",
    "print('En iyi C: ',  gscv.best_estimator_.C)"
   ]
  },
  {
   "cell_type": "markdown",
   "metadata": {},
   "source": [
    "En iyi hiperparametre setini bulduktan sonra bütün veri ve bu parametre seti ile tekrar modeli öğreniyor. Bu `refit` değişkeni ile ayarlanıyor (varsayılan True). Hiperparametre seçim işleminin istatistiklerine `gscv.cv_results_` yapısı üzerinden erişmek mümkün. "
   ]
  },
  {
   "cell_type": "code",
   "execution_count": 30,
   "metadata": {},
   "outputs": [
    {
     "data": {
      "text/plain": [
       "['mean_fit_time',\n",
       " 'mean_score_time',\n",
       " 'mean_test_score',\n",
       " 'mean_train_score',\n",
       " 'param_C',\n",
       " 'params',\n",
       " 'rank_test_score',\n",
       " 'split0_test_score',\n",
       " 'split0_train_score',\n",
       " 'split1_test_score',\n",
       " 'split1_train_score',\n",
       " 'split2_test_score',\n",
       " 'split2_train_score',\n",
       " 'split3_test_score',\n",
       " 'split3_train_score',\n",
       " 'split4_test_score',\n",
       " 'split4_train_score',\n",
       " 'std_fit_time',\n",
       " 'std_score_time',\n",
       " 'std_test_score',\n",
       " 'std_train_score']"
      ]
     },
     "execution_count": 30,
     "metadata": {},
     "output_type": "execute_result"
    }
   ],
   "source": [
    "sorted(gscv.cv_results_.keys())"
   ]
  },
  {
   "cell_type": "markdown",
   "metadata": {},
   "source": [
    "Sadece bir kısmına bakacak olursak:"
   ]
  },
  {
   "cell_type": "code",
   "execution_count": 31,
   "metadata": {
    "scrolled": false
   },
   "outputs": [
    {
     "name": "stdout",
     "output_type": "stream",
     "text": [
      "[{'C': 0.1}, {'C': 0.5}, {'C': 1.0}, {'C': 2.5}, {'C': 5.0}]\n",
      "[0.96       0.96666667 0.97333333 0.97333333 0.96666667]\n",
      "[0.03265986 0.02108185 0.02494438 0.02494438 0.03651484]\n"
     ]
    }
   ],
   "source": [
    "print(gscv.cv_results_['params'])\n",
    "print(gscv.cv_results_['mean_test_score'])\n",
    "print(gscv.cv_results_['std_test_score'])"
   ]
  },
  {
   "cell_type": "markdown",
   "metadata": {},
   "source": [
    "Bu değerleri kullanarak validasyon eğrileri çizdirmek ve görsel olarak sonuçları sunmak mümkün. Bunun yanında scikit-learn `validation_curve` adı altında benzer bir işlevsellik sunuyor. Bu fonksiyona regresyonda tekrar bakacağız."
   ]
  },
  {
   "cell_type": "markdown",
   "metadata": {},
   "source": [
    "Rastgele tarama için liste olarak değerlere ek olarak değerler üzerinden bir dağılım da belirtilebilir. Liste kullanılırsa, bu listeden rastgele örneklem alınıyor. Eğer bir dağılım belirtilmişse, buna göre örneklem alınıyor. Bunun için dağılımların `rvs` metodu ile örneklem sağlamaları gerekli. `scipy.stats` modülündeki dağılımlar bunu sağlıyor ancak kendimiz de gerekirse yazabiliriz. Ek olarak, kaç adet örneklem alınacağının `n_iter` ile belirtilmesi lazım."
   ]
  },
  {
   "cell_type": "code",
   "execution_count": 32,
   "metadata": {},
   "outputs": [
    {
     "name": "stdout",
     "output_type": "stream",
     "text": [
      "En iyi C:  1.9000000000000001\n",
      "En iyi C:  2.1381611946680836\n"
     ]
    }
   ],
   "source": [
    "from sklearn.model_selection import RandomizedSearchCV\n",
    "from scipy.stats import uniform as sp_uniform \n",
    "\n",
    "np.random.seed(int(time.time()))\n",
    "#Belirlediğimiz performans testi\n",
    "cv=StratifiedKFold(n_splits=5, shuffle=True)\n",
    "paramsToTest = {'C':np.arange(0.1,5.1,0.1)}\n",
    "rscv = RandomizedSearchCV(LogisticRegression(multi_class = 'auto', \n",
    "                                             solver ='lbfgs', max_iter = 1000), \n",
    "                          paramsToTest, cv=cv, n_iter=10)\n",
    "rscv.fit(X,y)\n",
    "print('En iyi C: ',  rscv.best_estimator_.C)\n",
    "\n",
    "paramsToTest = {'C': sp_uniform(0.1,4.9) }\n",
    "rscv = RandomizedSearchCV(LogisticRegression(multi_class = 'auto', \n",
    "                                             solver ='lbfgs', max_iter = 1000), \n",
    "                          paramsToTest, cv=cv, n_iter=10)\n",
    "rscv.fit(X,y)\n",
    "print('En iyi C: ',  rscv.best_estimator_.C)"
   ]
  },
  {
   "attachments": {
    "image.png": {
     "image/png": "[encoded data removed]"
    }
   },
   "cell_type": "markdown",
   "metadata": {},
   "source": [
    "## Model Değerlendirmesi\n",
    "\n",
    "Performans testlerini ve hiperparametre seçimlerini gördük. Şimdi baştan sona birleştirelim. Bunu anlatmak için scikit-learn kaynaklarından bir resim kullanırsak:\n",
    "\n",
    "![image.png](attachment:image.png)"
   ]
  },
  {
   "cell_type": "markdown",
   "metadata": {},
   "source": [
    "İyice emin olmak için, bu adım da rastgele birden fazla kere çalıştırılmalıdır."
   ]
  },
  {
   "cell_type": "markdown",
   "metadata": {},
   "source": [
    "Logistic Regression Modelini değerlendirmek için:\n",
    "* Bütün veriyi 60%-40% eğitim-test kümesi olarak ayırmak\n",
    "* Eğitim kümesinden öğrenilenleri, 3'lü çapraz geçerlilik kullanarak ölçmek\n",
    "* Hiperparametre bulmak için 0.1 ve 5 arasında rastgele 10 değer seçmek.\n",
    "* En sonunda seçilen hiperparametre ile bütün eğitim kümesinini kullanarak öğrenmek\n",
    "* Test kümesini kullanarak son modelin performansını değerlendirmek\n",
    "\n",
    "(Uyarı: Bu adımlar kompleks modeller ve/veya çok büyük veri setleri için zaman sorunlarından ötürü uygulanamayabilirler.)"
   ]
  },
  {
   "cell_type": "code",
   "execution_count": 29,
   "metadata": {
    "scrolled": true
   },
   "outputs": [
    {
     "name": "stdout",
     "output_type": "stream",
     "text": [
      "Seçilen C:  3.759699901514323\n",
      "0.9666666666666667\n",
      "[[20  0  0]\n",
      " [ 0 18  0]\n",
      " [ 0  2 20]]\n"
     ]
    },
    {
     "data": {
      "image/png": "[encoded data removed]",
      "text/plain": [
       "<Figure size 288x288 with 1 Axes>"
      ]
     },
     "metadata": {
      "needs_background": "light"
     },
     "output_type": "display_data"
    }
   ],
   "source": [
    "#Sıfırdan yazacak olursak\n",
    "import numpy as np\n",
    "import matplotlib.pyplot as plt\n",
    "from sklearn import datasets\n",
    "from sklearn.linear_model import LogisticRegression\n",
    "from sklearn.metrics import accuracy_score\n",
    "from sklearn.model_selection import train_test_split, StratifiedKFold, RandomizedSearchCV\n",
    "from scipy.stats import uniform as sp_uniform\n",
    "\n",
    "#Veriyi yükle\n",
    "iris_data = datasets.load_iris()\n",
    "y = iris_data['target']\n",
    "X = iris_data['data']\n",
    "\n",
    "#Veriyi ayır. Burada ayırırken sınıf oranlarını koruyoruz (stratify=y)\n",
    "Xtrain, Xtest, ytrain, ytest = train_test_split(X, y, test_size = 0.4, \n",
    "                                                stratify=y)\n",
    "\n",
    "#Çapraz geçerlilik yaklaşımını ayarla\n",
    "cv=StratifiedKFold(n_splits=3, shuffle=True)\n",
    "\n",
    "#Eğitim kümesi üzerinden hiperparametre taramasını ayarla\n",
    "paramsToTest = {'C': sp_uniform(0.1,4.9)}\n",
    "rscv = RandomizedSearchCV(LogisticRegression(multi_class = 'auto', solver ='lbfgs', max_iter = 1000),\n",
    "                          paramsToTest, cv=cv, n_iter=10, iid=True)\n",
    "\n",
    "#Taramayı başlat ve seç\n",
    "rscv.fit(Xtrain,ytrain)\n",
    "print('Seçilen C: ', rscv.best_estimator_.C)\n",
    "\n",
    "#Bu noktada rscv.best_estimator_ bütün eğitim kümesi ile öğrenilmiş modeli barındırıyor. \n",
    "#Ancak rscv üzerinden doğrudan predict fonksiyonunu çağırmak mümkün\n",
    "# Performans test etmek için:\n",
    "ypred = rscv.predict(Xtest)\n",
    "print(accuracy_score(ypred,ytest))\n",
    "\n",
    "# Hata matrisine de bakacak olursak\n",
    "from sklearn.metrics import confusion_matrix\n",
    "mat = confusion_matrix(ypred, ytest)\n",
    "print(mat)\n",
    "plt.matshow(mat)\n",
    "plt.xlabel('gerçek sınıf')\n",
    "plt.ylabel('tahminlenen sınıf');\n",
    "plt.show()"
   ]
  }
 ],
 "metadata": {
  "kernelspec": {
   "display_name": "Python 3",
   "language": "python",
   "name": "python3"
  },
  "language_info": {
   "codemirror_mode": {
    "name": "ipython",
    "version": 3
   },
   "file_extension": ".py",
   "mimetype": "text/x-python",
   "name": "python",
   "nbconvert_exporter": "python",
   "pygments_lexer": "ipython3",
   "version": "3.7.3"
  }
 },
 "nbformat": 4,
 "nbformat_minor": 2
}
