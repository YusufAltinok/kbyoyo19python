{
 "cells": [
  {
   "cell_type": "markdown",
   "metadata": {},
   "source": [
    "<H1> Python Sayısal Hesaplamalarının Temel Üçlüsü </H1>"
   ]
  },
  {
   "cell_type": "markdown",
   "metadata": {},
   "source": [
    "<style type=\"text/css\">\n",
    "table.dataframe td, table.dataframe th {\n",
    "    border-style: solid;\n",
    "}"
   ]
  },
  {
   "cell_type": "markdown",
   "metadata": {},
   "source": [
    "Python dilini sayısal anlamda zenginleştiren ve birbirleriyle iyi anlaşan üç önemli kütüphane:\n",
    "* **numpy**: Büyük dizi (array) ve matris yapılarının yanında bunların üzerinde bir çok matematiksel işlem desteği\n",
    "* **matplotlib**: Numpy ve sık kullanılan arayüz kütüphaneleriyle uyumlu çizim kütüphanesi.\n",
    "* **pandas**: Numpy ile uyumlu, tablolar ve zaman serileri için veri manipülasyonu ve analizi kütüphanesi. Süremiz kısıtlı olduğundan bu kütüphaneden bahsetmeyeceğiz.\n"
   ]
  },
  {
   "cell_type": "markdown",
   "metadata": {},
   "source": [
    "## Numpy"
   ]
  },
  {
   "cell_type": "markdown",
   "metadata": {},
   "source": [
    "Python listelerinin aksine sabit boyutlu ve tek tip veri tutan diziler içerir."
   ]
  },
  {
   "cell_type": "code",
   "execution_count": null,
   "metadata": {},
   "outputs": [],
   "source": [
    "import numpy as np"
   ]
  },
  {
   "cell_type": "markdown",
   "metadata": {},
   "source": [
    "**array** ismiyle yaratılır"
   ]
  },
  {
   "cell_type": "code",
   "execution_count": null,
   "metadata": {},
   "outputs": [],
   "source": [
    "x = np.array([1, 2, 4, 2])\n",
    "print(x)\n",
    "print(type(x))"
   ]
  },
  {
   "cell_type": "markdown",
   "metadata": {},
   "source": [
    "Numpy dizileri üzerinde tek satırda çoklu işlem yapılabilir"
   ]
  },
  {
   "cell_type": "code",
   "execution_count": null,
   "metadata": {},
   "outputs": [],
   "source": [
    "x = np.array([-1,-2,4,2])\n",
    "y = x*2\n",
    "print(y)\n",
    "z = abs(x)\n",
    "print(z)"
   ]
  },
  {
   "cell_type": "markdown",
   "metadata": {},
   "source": [
    "Numpy dizileri çok boyutlu da olabilir"
   ]
  },
  {
   "cell_type": "code",
   "execution_count": null,
   "metadata": {},
   "outputs": [],
   "source": [
    "m = np.array([[2, 3, 4],\n",
    "              [4, 5, 6],\n",
    "              [6, 7, 8]])\n",
    "print(m + 5)"
   ]
  },
  {
   "cell_type": "markdown",
   "metadata": {},
   "source": [
    "Numpy kütüphanesinin kendi komutları ile dizi yaratma:"
   ]
  },
  {
   "cell_type": "code",
   "execution_count": null,
   "metadata": {},
   "outputs": [],
   "source": [
    "#Elemanlar 0 olacak şekilde yaratılıyor\n",
    "np.zeros(10)"
   ]
  },
  {
   "cell_type": "code",
   "execution_count": null,
   "metadata": {
    "scrolled": false
   },
   "outputs": [],
   "source": [
    "#Elemanlar 1 olacak şekilde yaratılıyor. (3,5) burada şekil bilgisi veriyor\n",
    "np.ones((3,5))"
   ]
  },
  {
   "cell_type": "code",
   "execution_count": null,
   "metadata": {},
   "outputs": [],
   "source": [
    "#Elemanları verilen değer ile dolduruyor. n-boyutlu dizi yaratmak mümkün\n",
    "np.full((3,2,5),-1.5)"
   ]
  },
  {
   "cell_type": "code",
   "execution_count": null,
   "metadata": {},
   "outputs": [],
   "source": [
    "#Rastgele eleman değerleri ile yaratma\n",
    "np.random.random((3, 3))"
   ]
  },
  {
   "cell_type": "code",
   "execution_count": null,
   "metadata": {},
   "outputs": [],
   "source": [
    "#0 ortalama, 1 standart sapma Gauss dağılımından örneklenmiş değerler ile yaratma\n",
    "np.random.normal(0, 1, (3, 3))"
   ]
  },
  {
   "cell_type": "markdown",
   "metadata": {},
   "source": [
    "Numpy dizieri tek tip olabilir demiştik. Şu ana kadar genelde hep **float** oldu. Diziyi yaratırken veri tipini de belirtebiliriz. Mesela tam sayı bir dizin yaratmak istersek: "
   ]
  },
  {
   "cell_type": "code",
   "execution_count": null,
   "metadata": {},
   "outputs": [],
   "source": [
    "np.zeros(10, dtype='int16')"
   ]
  },
  {
   "cell_type": "code",
   "execution_count": null,
   "metadata": {},
   "outputs": [],
   "source": [
    "a = np.random.normal(0, 1, 10)\n",
    "print(a)\n",
    "print(\"Mean:\", np.mean(a))\n",
    "print(\"Var:\", np.var(a))"
   ]
  },
  {
   "cell_type": "markdown",
   "metadata": {},
   "source": [
    "## Matplotlib ile Basit Çizimler"
   ]
  },
  {
   "cell_type": "markdown",
   "metadata": {},
   "source": [
    "Önce matplotlib'i, grafikleri bu dökümanda çizdirmesi için ayarlıyoruz. Daha sonra import ediyoruz"
   ]
  },
  {
   "cell_type": "code",
   "execution_count": null,
   "metadata": {},
   "outputs": [],
   "source": [
    "%matplotlib inline\n",
    "import matplotlib.pyplot as plt"
   ]
  },
  {
   "cell_type": "markdown",
   "metadata": {},
   "source": [
    "Matplotlib, Python veri yapıları üzerinden çizim yapabiliyor"
   ]
  },
  {
   "cell_type": "code",
   "execution_count": null,
   "metadata": {},
   "outputs": [],
   "source": [
    "plt.plot([1, 2, 4, 2])\n",
    "plt.show()"
   ]
  },
  {
   "cell_type": "markdown",
   "metadata": {},
   "source": [
    "İyi bir çizimin eksenleri işaretli olmalı. Altında açıklama yoksa başlık da ihmal edilmemeli. Birden fazla eğri çiziliyorsa lejant konulmalı."
   ]
  },
  {
   "cell_type": "code",
   "execution_count": null,
   "metadata": {},
   "outputs": [],
   "source": [
    "x = list(range(0,10))\n",
    "y = [0.45*t**2 - 2*t + 2 for t in x]\n",
    "z = [0.9*t + 1 for t in x]\n",
    "plt.xlabel('x')\n",
    "plt.ylabel('f(x)')\n",
    "plt.title('Polinomlar')\n",
    "plt.plot(x,y,'.')\n",
    "plt.plot(x,z,'rx')\n",
    "plt.legend(('İkinci Derece','Birinci Derece'))"
   ]
  },
  {
   "cell_type": "markdown",
   "metadata": {},
   "source": [
    "Örnek olarak bir Python bilgisi anketinin cevapları:"
   ]
  },
  {
   "cell_type": "code",
   "execution_count": null,
   "metadata": {},
   "outputs": [],
   "source": [
    "pythonBilgisi = ['iyi','iyi','baslangic','iyi','iyi','baslangic','iyi', 'cevap yok', \\\n",
    "                 'baslangic','yok','baslangic','iyi', 'baslangic', 'cevap yok','iyi', \\\n",
    "                 'baslangic', 'yok', 'yok','yok', 'baslangic','iyi', 'baslangic', \\\n",
    "                 'cevap yok','baslangic','iyi']"
   ]
  },
  {
   "cell_type": "markdown",
   "metadata": {},
   "source": [
    "Oranları hesaplayalım:"
   ]
  },
  {
   "cell_type": "code",
   "execution_count": null,
   "metadata": {},
   "outputs": [],
   "source": [
    "cevaplar = list(set(pythonBilgisi))\n",
    "sayilar = {}\n",
    "for cevap in cevaplar:\n",
    "    sayilar[cevap] = 0\n",
    "for response in pythonBilgisi:\n",
    "    sayilar[response] += 1\n",
    "#sayilar = []\n",
    "#toplam = len(pythonBilgisi)\n",
    "#for cevap in cevaplar:\n",
    "#    sayilar.append(pythonBilgisi.count(cevap))\n",
    "print(sayilar)\n",
    "sayilar = sayilar.values()"
   ]
  },
  {
   "cell_type": "markdown",
   "metadata": {},
   "source": [
    "Bar Grafiği:"
   ]
  },
  {
   "cell_type": "code",
   "execution_count": null,
   "metadata": {
    "scrolled": true
   },
   "outputs": [],
   "source": [
    "ind = range(len(cevaplar))\n",
    "plt.bar(ind, sayilar)\n",
    "plt.xticks(ind, cevaplar)\n",
    "plt.show()"
   ]
  },
  {
   "cell_type": "markdown",
   "metadata": {},
   "source": [
    "Pasta Grafiği:"
   ]
  },
  {
   "cell_type": "code",
   "execution_count": null,
   "metadata": {
    "scrolled": true
   },
   "outputs": [],
   "source": [
    "plt.pie(sayilar, labels=cevaplar)\n",
    "plt.show()"
   ]
  },
  {
   "cell_type": "markdown",
   "metadata": {},
   "source": [
    "**Not:** Daha fazla çizim şekli için: https://matplotlib.org/gallery.html"
   ]
  }
 ],
 "metadata": {
  "kernelspec": {
   "display_name": "Python 3",
   "language": "python",
   "name": "python3"
  },
  "language_info": {
   "codemirror_mode": {
    "name": "ipython",
    "version": 3
   },
   "file_extension": ".py",
   "mimetype": "text/x-python",
   "name": "python",
   "nbconvert_exporter": "python",
   "pygments_lexer": "ipython3",
   "version": "3.6.5"
  }
 },
 "nbformat": 4,
 "nbformat_minor": 2
}
